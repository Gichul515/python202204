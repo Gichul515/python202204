{
  "nbformat": 4,
  "nbformat_minor": 0,
  "metadata": {
    "colab": {
      "name": "Hw1이기철.ipynb",
      "provenance": [],
      "authorship_tag": "ABX9TyOPsIVayea0PL8O6wtmjg77",
      "include_colab_link": true
    },
    "kernelspec": {
      "name": "python3",
      "display_name": "Python 3"
    },
    "language_info": {
      "name": "python"
    }
  },
  "cells": [
    {
      "cell_type": "markdown",
      "metadata": {
        "id": "view-in-github",
        "colab_type": "text"
      },
      "source": [
        "<a href=\"https://colab.research.google.com/github/Gichul515/python202204/blob/main/Hw1%EC%9D%B4%EA%B8%B0%EC%B2%A0.ipynb\" target=\"_parent\"><img src=\"https://colab.research.google.com/assets/colab-badge.svg\" alt=\"Open In Colab\"/></a>"
      ]
    },
    {
      "cell_type": "code",
      "execution_count": null,
      "metadata": {
        "colab": {
          "base_uri": "https://localhost:8080/"
        },
        "id": "Db_bqyAFrRHy",
        "outputId": "869f8be7-4c7d-4a2a-a0e9-2c9b7dcf3e2c"
      },
      "outputs": [
        {
          "output_type": "stream",
          "name": "stdout",
          "text": [
            "Hello World\n"
          ]
        }
      ],
      "source": [
        "# 001\n",
        "\n",
        "print('Hello World')"
      ]
    },
    {
      "cell_type": "code",
      "source": [
        "# 002\n",
        "\n",
        "print(\"Mary's cosmetics\")\n",
        "\n",
        "print('Mary\\'s cosmetics')"
      ],
      "metadata": {
        "colab": {
          "base_uri": "https://localhost:8080/"
        },
        "id": "edvXRIqfrrc0",
        "outputId": "e8e56d97-0790-44e4-d41e-9458bc52df6e"
      },
      "execution_count": null,
      "outputs": [
        {
          "output_type": "stream",
          "name": "stdout",
          "text": [
            "Mary's cosmetics\n",
            "Mary's cosmetics\n"
          ]
        }
      ]
    },
    {
      "cell_type": "code",
      "source": [
        "# 003\n",
        "\n",
        "print(\"신씨가 소리질렀다. \\\"도둑이야.\\\"\")"
      ],
      "metadata": {
        "id": "ebFE-oYNuHg-",
        "outputId": "0382f096-266b-4ddf-ee3e-e151f64cfed8",
        "colab": {
          "base_uri": "https://localhost:8080/"
        }
      },
      "execution_count": 5,
      "outputs": [
        {
          "output_type": "stream",
          "name": "stdout",
          "text": [
            "신씨가 소리질렀다. \"도둑이야.\"\n"
          ]
        }
      ]
    },
    {
      "cell_type": "code",
      "source": [
        "# 004\n",
        "\n",
        "print(\"\\\"C:\\\\Windows\\\"\")"
      ],
      "metadata": {
        "id": "PwBQiRZfOA6j",
        "outputId": "50481a69-8908-40aa-cbeb-c55bfbf6a316",
        "colab": {
          "base_uri": "https://localhost:8080/"
        }
      },
      "execution_count": 21,
      "outputs": [
        {
          "output_type": "stream",
          "name": "stdout",
          "text": [
            "\"C:\\Windows\"\n"
          ]
        }
      ]
    },
    {
      "cell_type": "code",
      "source": [
        "# 005\n",
        "\n",
        "print(\"안녕하세요.\\n만나서\\t\\t반갑습니다.\")  #  \\n:줄 바꿈으로 처리합니다.  #t:탭으로 처리합니다/ "
      ],
      "metadata": {
        "id": "_6EglLY2Tb-z",
        "outputId": "dfaae993-d533-458f-abe7-abf3952d4780",
        "colab": {
          "base_uri": "https://localhost:8080/"
        }
      },
      "execution_count": 23,
      "outputs": [
        {
          "output_type": "stream",
          "name": "stdout",
          "text": [
            "안녕하세요.\n",
            "만나서\t\t반갑습니다.\n"
          ]
        }
      ]
    },
    {
      "cell_type": "code",
      "source": [
        "# 006\n",
        "\n",
        "print(\"오늘은\", \"일요일\")    # 콤마로 구분된 출력대상은 공백으로 구분됩니다."
      ],
      "metadata": {
        "id": "jkeWupDrUH85",
        "outputId": "90fc21d1-3123-4147-e426-4475b5b5e6bd",
        "colab": {
          "base_uri": "https://localhost:8080/"
        }
      },
      "execution_count": 24,
      "outputs": [
        {
          "output_type": "stream",
          "name": "stdout",
          "text": [
            "오늘은 일요일\n"
          ]
        }
      ]
    },
    {
      "cell_type": "code",
      "source": [
        "# 007\n",
        "\n",
        "print('naver' , 'kakao' , 'sk' , 'samsung', sep=';')"
      ],
      "metadata": {
        "id": "h3eZUq1wUm1Z",
        "outputId": "f1a9b167-b024-4216-daac-17e7c0487fea",
        "colab": {
          "base_uri": "https://localhost:8080/"
        }
      },
      "execution_count": 38,
      "outputs": [
        {
          "output_type": "stream",
          "name": "stdout",
          "text": [
            "naver;kakao;sk;samsung\n"
          ]
        }
      ]
    },
    {
      "cell_type": "code",
      "source": [
        "# 008\n",
        "\n",
        "print('naver' , 'kakao' , 'sk' , 'samsung' , sep='/')"
      ],
      "metadata": {
        "id": "enQ4m87-VlCp",
        "outputId": "9edc812c-1630-4a87-ec8a-97997ae28fe6",
        "colab": {
          "base_uri": "https://localhost:8080/"
        }
      },
      "execution_count": 39,
      "outputs": [
        {
          "output_type": "stream",
          "name": "stdout",
          "text": [
            "naver/kakao/sk/samsung\n"
          ]
        }
      ]
    },
    {
      "cell_type": "code",
      "source": [
        "# 009\n",
        "\n",
        "print(\"first\", end=\"\"); print(\"second\")"
      ],
      "metadata": {
        "id": "uC8e13dwYnqN",
        "outputId": "f823e658-f87f-490f-df26-23e48475cc3a",
        "colab": {
          "base_uri": "https://localhost:8080/"
        }
      },
      "execution_count": 46,
      "outputs": [
        {
          "output_type": "stream",
          "name": "stdout",
          "text": [
            "firstsecond\n"
          ]
        }
      ]
    },
    {
      "cell_type": "code",
      "source": [
        "# 010\n",
        "\n",
        "print(5/3)\n"
      ],
      "metadata": {
        "id": "15v8X3YIaiHX",
        "outputId": "197c3b95-2c42-4a4a-9aa9-091c1a61e583",
        "colab": {
          "base_uri": "https://localhost:8080/"
        }
      },
      "execution_count": 48,
      "outputs": [
        {
          "output_type": "stream",
          "name": "stdout",
          "text": [
            "1.6666666666666667\n"
          ]
        }
      ]
    },
    {
      "cell_type": "code",
      "source": [
        "# 011\n",
        "\n",
        "삼성전자= 50000\n",
        "평가금액= 삼성전자 * 10\n",
        "print('평가금액')"
      ],
      "metadata": {
        "id": "e96BcFrWcIkK",
        "outputId": "c869da9e-5367-4795-e940-e837d3d20d08",
        "colab": {
          "base_uri": "https://localhost:8080/"
        }
      },
      "execution_count": 51,
      "outputs": [
        {
          "output_type": "stream",
          "name": "stdout",
          "text": [
            "평가금액\n"
          ]
        }
      ]
    },
    {
      "cell_type": "code",
      "source": [
        "# 012\n",
        "\n",
        "name = '삼성전자'\n",
        "시가총액 = '298조'\n",
        "현재가 = 50000\n",
        "PER = 15.79\n",
        "\n",
        "print(name)\n",
        "print(시가총액)\n",
        "print(현재가)\n",
        "print(PER)\n"
      ],
      "metadata": {
        "id": "Lw5C-h5lzAPJ",
        "outputId": "5ae9e494-9556-4734-a058-0fab120823e2",
        "colab": {
          "base_uri": "https://localhost:8080/"
        }
      },
      "execution_count": 61,
      "outputs": [
        {
          "output_type": "stream",
          "name": "stdout",
          "text": [
            "삼성전자\n",
            "298조\n",
            "50000\n",
            "15.79\n"
          ]
        }
      ]
    },
    {
      "cell_type": "code",
      "source": [
        "# 013\n",
        "\n",
        "s = \"hello\"\n",
        "t = \"python\"\n",
        "print(f'{s+\"!\"} , {t}')"
      ],
      "metadata": {
        "id": "6OiX0mVtzgtc",
        "outputId": "fa0fc110-5502-45fe-fc52-098278423418",
        "colab": {
          "base_uri": "https://localhost:8080/"
        }
      },
      "execution_count": 53,
      "outputs": [
        {
          "output_type": "stream",
          "name": "stdout",
          "text": [
            "hello! , python\n"
          ]
        }
      ]
    },
    {
      "cell_type": "code",
      "source": [
        "# 014\n",
        "\n",
        "print(2+2*3)"
      ],
      "metadata": {
        "id": "Hy__1Vlv99qP",
        "outputId": "6c631b32-1bbe-4a86-d3cf-93188c32fd51",
        "colab": {
          "base_uri": "https://localhost:8080/"
        }
      },
      "execution_count": 54,
      "outputs": [
        {
          "output_type": "stream",
          "name": "stdout",
          "text": [
            "8\n"
          ]
        }
      ]
    },
    {
      "cell_type": "code",
      "source": [
        "# 015\n",
        "\n",
        "a = '132'\n",
        "print(type(a))"
      ],
      "metadata": {
        "id": "txLlrqH5-JeW",
        "outputId": "173de96f-cb33-425c-9184-564a9d96ea29",
        "colab": {
          "base_uri": "https://localhost:8080/"
        }
      },
      "execution_count": 55,
      "outputs": [
        {
          "output_type": "stream",
          "name": "stdout",
          "text": [
            "<class 'str'>\n"
          ]
        }
      ]
    },
    {
      "cell_type": "code",
      "source": [
        "# 016\n",
        "\n",
        "num_str = '720'\n",
        "print(int(num_str))"
      ],
      "metadata": {
        "id": "dnBZMAnV-gfJ",
        "outputId": "531fb20a-1bb4-4eac-f75f-c3947ca9ca54",
        "colab": {
          "base_uri": "https://localhost:8080/"
        }
      },
      "execution_count": 56,
      "outputs": [
        {
          "output_type": "stream",
          "name": "stdout",
          "text": [
            "720\n"
          ]
        }
      ]
    },
    {
      "cell_type": "code",
      "source": [
        "# 017\n",
        "\n",
        "num = 100\n",
        "print(int('100'))"
      ],
      "metadata": {
        "id": "aDbzhX6g_SIR",
        "outputId": "165f3931-5c24-40e2-b728-10a39e2b6ce8",
        "colab": {
          "base_uri": "https://localhost:8080/"
        }
      },
      "execution_count": 57,
      "outputs": [
        {
          "output_type": "stream",
          "name": "stdout",
          "text": [
            "100\n"
          ]
        }
      ]
    },
    {
      "cell_type": "code",
      "source": [
        "# 018\n",
        "\n",
        "str ='15.79'\n",
        "\n",
        "\n",
        "\n"
      ],
      "metadata": {
        "id": "0Ywi9rxD_f4P"
      },
      "execution_count": null,
      "outputs": []
    },
    {
      "cell_type": "code",
      "source": [
        ""
      ],
      "metadata": {
        "id": "rrLETGnlEuhI"
      },
      "execution_count": null,
      "outputs": []
    },
    {
      "cell_type": "code",
      "source": [
        "# 019\n",
        "\n",
        "year = '2020'\n",
        "print(int(year)-3)\n",
        "print(int(year)-2)\n",
        "print(int(year)-1)"
      ],
      "metadata": {
        "id": "C3yRWGTtCXnm",
        "outputId": "32f144bc-2f6c-41b7-be3d-aea4266eb02c",
        "colab": {
          "base_uri": "https://localhost:8080/"
        }
      },
      "execution_count": 59,
      "outputs": [
        {
          "output_type": "stream",
          "name": "stdout",
          "text": [
            "2017\n",
            "2018\n",
            "2019\n"
          ]
        }
      ]
    },
    {
      "cell_type": "code",
      "source": [
        "# 020\n",
        "\n",
        "에어컨 = 48584\n",
        "할부 = 36\n",
        "총금액 = 에어컨 * 할부\n",
        "print(총금액)"
      ],
      "metadata": {
        "id": "vI1ZB1cFDHoy",
        "outputId": "735a6489-deb0-496d-f9c1-84a36089e95a",
        "colab": {
          "base_uri": "https://localhost:8080/"
        }
      },
      "execution_count": 60,
      "outputs": [
        {
          "output_type": "stream",
          "name": "stdout",
          "text": [
            "1749024\n"
          ]
        }
      ]
    }
  ]
}