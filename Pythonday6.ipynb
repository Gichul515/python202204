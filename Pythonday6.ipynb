{
  "nbformat": 4,
  "nbformat_minor": 0,
  "metadata": {
    "colab": {
      "name": "Pythonday6.ipynb",
      "provenance": [],
      "authorship_tag": "ABX9TyOQD8e5HKtiEDcjGzq49NTC",
      "include_colab_link": true
    },
    "kernelspec": {
      "name": "python3",
      "display_name": "Python 3"
    },
    "language_info": {
      "name": "python"
    }
  },
  "cells": [
    {
      "cell_type": "markdown",
      "metadata": {
        "id": "view-in-github",
        "colab_type": "text"
      },
      "source": [
        "<a href=\"https://colab.research.google.com/github/Gichul515/python202204/blob/main/Pythonday6.ipynb\" target=\"_parent\"><img src=\"https://colab.research.google.com/assets/colab-badge.svg\" alt=\"Open In Colab\"/></a>"
      ]
    },
    {
      "cell_type": "code",
      "execution_count": 2,
      "metadata": {
        "colab": {
          "base_uri": "https://localhost:8080/"
        },
        "id": "1Q3Kp7AIdVah",
        "outputId": "936b5ff4-ecf4-4697-cdd8-5aed0199f2ad"
      },
      "outputs": [
        {
          "output_type": "stream",
          "name": "stdout",
          "text": [
            "우편번호 1234\n",
            "서울시 영등포구 여의도동\n"
          ]
        }
      ],
      "source": [
        "# p192      반환값\n",
        "\n",
        "def address():\n",
        "  str = '우편번호 1234\\n'\n",
        "  str += '서울시 영등포구 여의도동'\n",
        "  return str\n",
        "\n",
        "print(address()) "
      ]
    },
    {
      "cell_type": "code",
      "source": [
        "def calculator(*args):    #   가변 매개변수\n",
        "  return sum(args), sum(args)/len(args), max(args), min(args) # 1개의 튜플로 리턴\n",
        "\n",
        "a,b,c,d = calculator(1,2,3,4,5)\n",
        "print(a)\n",
        "print(b)\n",
        "print(c)\n",
        "print(d)\n"
      ],
      "metadata": {
        "colab": {
          "base_uri": "https://localhost:8080/"
        },
        "id": "IvBYApFOfMct",
        "outputId": "01458284-18c8-41e3-c11b-38a4c5e60d4a"
      },
      "execution_count": 5,
      "outputs": [
        {
          "output_type": "stream",
          "name": "stdout",
          "text": [
            "15\n",
            "3.0\n",
            "5\n",
            "1\n"
          ]
        }
      ]
    },
    {
      "cell_type": "code",
      "source": [
        "def charge(energy):\n",
        "  if energy < 0:\n",
        "    print('0보다 작은 에너지는 충전할수 없습니다.')\n",
        "    return\n",
        "  print('에너지가 충전되었습니다.')\n",
        "\n",
        "charge(-1)"
      ],
      "metadata": {
        "colab": {
          "base_uri": "https://localhost:8080/"
        },
        "id": "g309U6-cggnz",
        "outputId": "f82b4a65-50de-418c-bd84-0e201f4d0c6b"
      },
      "execution_count": 7,
      "outputs": [
        {
          "output_type": "stream",
          "name": "stdout",
          "text": [
            "0보다 작은 에너지는 충전할수 없습니다.\n"
          ]
        }
      ]
    },
    {
      "cell_type": "code",
      "source": [
        "# p197   아주 중요한 개념         # 지역변수와 전역변수 고민이 되면 지역변수를 사용\n",
        "# 지역변수 local variable 와 전역변수 global variable\n",
        "\n",
        "def f():\n",
        "  a = 10\n",
        "  print(f'f() 내부 : {a}')\n",
        "f()\n",
        "\n",
        "print(a)\n",
        "\n",
        "# 함수 안에서 선언한 변수(지역함수)는 함수 안에서만 의미가 있다."
      ],
      "metadata": {
        "colab": {
          "base_uri": "https://localhost:8080/",
          "height": 229
        },
        "id": "TKDJZclZhQVH",
        "outputId": "88094fe2-df82-4657-dbbf-6e7963659df7"
      },
      "execution_count": 1,
      "outputs": [
        {
          "output_type": "stream",
          "name": "stdout",
          "text": [
            "f() 내부 : 10\n"
          ]
        },
        {
          "output_type": "error",
          "ename": "NameError",
          "evalue": "ignored",
          "traceback": [
            "\u001b[0;31m---------------------------------------------------------------------------\u001b[0m",
            "\u001b[0;31mNameError\u001b[0m                                 Traceback (most recent call last)",
            "\u001b[0;32m<ipython-input-1-6fcce9491c52>\u001b[0m in \u001b[0;36m<module>\u001b[0;34m()\u001b[0m\n\u001b[1;32m      6\u001b[0m   \u001b[0mprint\u001b[0m\u001b[0;34m(\u001b[0m\u001b[0;34mf'f() 내부 : {a}'\u001b[0m\u001b[0;34m)\u001b[0m\u001b[0;34m\u001b[0m\u001b[0;34m\u001b[0m\u001b[0m\n\u001b[1;32m      7\u001b[0m \u001b[0mf\u001b[0m\u001b[0;34m(\u001b[0m\u001b[0;34m)\u001b[0m\u001b[0;34m\u001b[0m\u001b[0;34m\u001b[0m\u001b[0m\n\u001b[0;32m----> 8\u001b[0;31m \u001b[0mprint\u001b[0m\u001b[0;34m(\u001b[0m\u001b[0ma\u001b[0m\u001b[0;34m)\u001b[0m\u001b[0;34m\u001b[0m\u001b[0;34m\u001b[0m\u001b[0m\n\u001b[0m",
            "\u001b[0;31mNameError\u001b[0m: name 'a' is not defined"
          ]
        }
      ]
    },
    {
      "cell_type": "code",
      "source": [
        "b = 10  #전역변수 global variable\n",
        "def f():\n",
        "  print(f'f() 내부:{b}')\n",
        "\n",
        "f()\n",
        "print(b)"
      ],
      "metadata": {
        "colab": {
          "base_uri": "https://localhost:8080/"
        },
        "id": "JPt3T12NjDp5",
        "outputId": "2417db0d-a408-4711-ad57-2c38bbcd5595"
      },
      "execution_count": 3,
      "outputs": [
        {
          "output_type": "stream",
          "name": "stdout",
          "text": [
            "f() 내부:10\n",
            "10\n"
          ]
        }
      ]
    },
    {
      "cell_type": "code",
      "source": [
        "# p199  #1\n",
        "\n",
        "def vending_machine(money):\n",
        "  price = 700   # 한잔 가격 700원\n",
        "  cups = money // price # 3000 // 700   ->> 4\n",
        "  for drink in range(cups + 1):\n",
        "    coin = money - price * drink \n",
        "    print(f'음료수 = {drink}개, 잔돈 = {coin}원')  # cup 4    coin 200\n",
        "\n",
        "\n",
        "\n",
        "vending_machine(3000)"
      ],
      "metadata": {
        "colab": {
          "base_uri": "https://localhost:8080/"
        },
        "id": "O2bPPtxRj9yj",
        "outputId": "4e83ebcc-6df3-467c-d113-82b46b45abde"
      },
      "execution_count": 4,
      "outputs": [
        {
          "output_type": "stream",
          "name": "stdout",
          "text": [
            "음료수 = 0개, 잔돈 = 3000원\n",
            "음료수 = 1개, 잔돈 = 2300원\n",
            "음료수 = 2개, 잔돈 = 1600원\n",
            "음료수 = 3개, 잔돈 = 900원\n",
            "음료수 = 4개, 잔돈 = 200원\n"
          ]
        }
      ]
    },
    {
      "cell_type": "code",
      "source": [
        "# p200 #2\n",
        "\n",
        "def get_average(marks):\n",
        "  sum = 0\n",
        "  for mark in marks:\n",
        "    sum += marks[mark]\n",
        "  avg = sum / len(marks)\n",
        "  return avg\n",
        "\n",
        "marks = {'국어':90, '영어':80, '수학':85}   \n",
        "average = get_average(marks)\n",
        "print(f'평균은 {average}점 입니다.')\n"
      ],
      "metadata": {
        "colab": {
          "base_uri": "https://localhost:8080/"
        },
        "id": "K7oySoxisWgU",
        "outputId": "c2deac8e-6c6a-431c-ecae-69f36d3be8f5"
      },
      "execution_count": 6,
      "outputs": [
        {
          "output_type": "stream",
          "name": "stdout",
          "text": [
            "평균은 85.0점 입니다.\n"
          ]
        }
      ]
    },
    {
      "cell_type": "code",
      "source": [
        "# module 과 import\n",
        "\n",
        "# module = .py  모든 파이썬 파일은 모듈이다.\n",
        "\n"
      ],
      "metadata": {
        "id": "SxtUXYZtwHRV"
      },
      "execution_count": null,
      "outputs": []
    },
    {
      "cell_type": "code",
      "source": [
        ""
      ],
      "metadata": {
        "id": "TpI_0nGvwt5X"
      },
      "execution_count": null,
      "outputs": []
    }
  ]
}