{
  "nbformat": 4,
  "nbformat_minor": 0,
  "metadata": {
    "colab": {
      "name": "PythonDay3.ipynb",
      "provenance": [],
      "include_colab_link": true
    },
    "kernelspec": {
      "name": "python3",
      "display_name": "Python 3"
    },
    "language_info": {
      "name": "python"
    }
  },
  "cells": [
    {
      "cell_type": "markdown",
      "metadata": {
        "id": "view-in-github",
        "colab_type": "text"
      },
      "source": [
        "<a href=\"https://colab.research.google.com/github/Gichul515/python202204/blob/main/PythonDay3.ipynb\" target=\"_parent\"><img src=\"https://colab.research.google.com/assets/colab-badge.svg\" alt=\"Open In Colab\"/></a>"
      ]
    },
    {
      "cell_type": "code",
      "execution_count": null,
      "metadata": {
        "colab": {
          "base_uri": "https://localhost:8080/"
        },
        "id": "u2x6nYT1HUlx",
        "outputId": "11338393-c353-4054-f73c-dc5c7089a447"
      },
      "outputs": [
        {
          "output_type": "stream",
          "name": "stdout",
          "text": [
            "42452\n",
            "당신이 입력한 수는 42452입니다.\n"
          ]
        }
      ],
      "source": [
        "# p62 표준입력\n",
        "# input()함수는 키보드로 입력을 받을때 사용된다. \n",
        "\n",
        "n = input()\n",
        "print(f'당신이 입력한 수는 {n}입니다.')"
      ]
    },
    {
      "cell_type": "code",
      "source": [
        "name = input('이름을 입력하세요 >>> ')\n",
        "age = input('나이를 입력하세요 >>> ')\n",
        "\n",
        "print(f'입력된 이름은 {name}이고 나이는 {age}입니다')"
      ],
      "metadata": {
        "colab": {
          "base_uri": "https://localhost:8080/"
        },
        "id": "yls1HleeJP8Q",
        "outputId": "67648e80-08bc-4ef4-82c5-b98ff41ddfb0"
      },
      "execution_count": null,
      "outputs": [
        {
          "output_type": "stream",
          "name": "stdout",
          "text": [
            "이름을 입력하세요 >>> 어스틴\n",
            "나이를 입력하세요 >>> 19\n",
            "입력된 이름은 어스틴이고 나이는 19입니다\n"
          ]
        }
      ]
    },
    {
      "cell_type": "code",
      "source": [
        "# 좋아하는 과일은?\n",
        "# 당신이 좋아하는 과일은 .....입니다.\n",
        "\n",
        "fruit = input('좋아하는 과일은?')\n",
        "print(f'당신이 좋아하는 과일은 {fruit}입니다.')"
      ],
      "metadata": {
        "colab": {
          "base_uri": "https://localhost:8080/"
        },
        "id": "Sik4OZmMJ00L",
        "outputId": "ff847a29-14d7-4498-e34e-9c402e4b0526"
      },
      "execution_count": null,
      "outputs": [
        {
          "output_type": "stream",
          "name": "stdout",
          "text": [
            "좋아하는 과일은?체리\n",
            "당신이 좋아하는 과일은 체리입니다.\n"
          ]
        }
      ]
    },
    {
      "cell_type": "code",
      "source": [
        "n = input(\"정수를 입력하세요>>>\")\n",
        "print(type(n))\n",
        "\n",
        "\n"
      ],
      "metadata": {
        "id": "yRDlVHtGLAU5",
        "outputId": "e1c622ff-bd0b-48bd-cf82-841b7915b555",
        "colab": {
          "base_uri": "https://localhost:8080/"
        }
      },
      "execution_count": 3,
      "outputs": [
        {
          "output_type": "stream",
          "name": "stdout",
          "text": [
            "정수를 입력하세요>>>9\n",
            "<class 'str'>\n"
          ]
        }
      ]
    },
    {
      "cell_type": "code",
      "source": [
        "price = 5000\n",
        "n = input('할부 개월 입력>>>')\n",
        "print(f'매달 내는 돈은 {price / n}원 입니다.')"
      ],
      "metadata": {
        "id": "GnI1KXZELnhG",
        "outputId": "5f8514bb-6f52-48d9-d807-557e62b331ba",
        "colab": {
          "base_uri": "https://localhost:8080/",
          "height": 229
        }
      },
      "execution_count": 4,
      "outputs": [
        {
          "name": "stdout",
          "output_type": "stream",
          "text": [
            "할부 개월 입력>>>12\n"
          ]
        },
        {
          "output_type": "error",
          "ename": "TypeError",
          "evalue": "ignored",
          "traceback": [
            "\u001b[0;31m---------------------------------------------------------------------------\u001b[0m",
            "\u001b[0;31mTypeError\u001b[0m                                 Traceback (most recent call last)",
            "\u001b[0;32m<ipython-input-4-11f0cddfae39>\u001b[0m in \u001b[0;36m<module>\u001b[0;34m()\u001b[0m\n\u001b[1;32m      1\u001b[0m \u001b[0mprice\u001b[0m \u001b[0;34m=\u001b[0m \u001b[0;36m5000\u001b[0m\u001b[0;34m\u001b[0m\u001b[0;34m\u001b[0m\u001b[0m\n\u001b[1;32m      2\u001b[0m \u001b[0mn\u001b[0m \u001b[0;34m=\u001b[0m \u001b[0minput\u001b[0m\u001b[0;34m(\u001b[0m\u001b[0;34m'할부 개월 입력>>>'\u001b[0m\u001b[0;34m)\u001b[0m\u001b[0;34m\u001b[0m\u001b[0;34m\u001b[0m\u001b[0m\n\u001b[0;32m----> 3\u001b[0;31m \u001b[0mprint\u001b[0m\u001b[0;34m(\u001b[0m\u001b[0;34mf'매달 내는 돈은 {price / n}원 입니다.'\u001b[0m\u001b[0;34m)\u001b[0m\u001b[0;34m\u001b[0m\u001b[0;34m\u001b[0m\u001b[0m\n\u001b[0m",
            "\u001b[0;31mTypeError\u001b[0m: unsupported operand type(s) for /: 'int' and 'str'"
          ]
        }
      ]
    },
    {
      "cell_type": "code",
      "source": [
        "price = 5000\n",
        "n = int(input('할부 개월 입력>>>'))\n",
        "print(f'매달 내는 돈은 {price / n}원 입니다.')"
      ],
      "metadata": {
        "id": "HuTOLbLqL4gt",
        "outputId": "3164dde1-c984-4e26-da3f-dba501c15536",
        "colab": {
          "base_uri": "https://localhost:8080/"
        }
      },
      "execution_count": 5,
      "outputs": [
        {
          "output_type": "stream",
          "name": "stdout",
          "text": [
            "할부 개월 입력>>>12\n",
            "매달 내는 돈은 416.6666666666667원 입니다.\n"
          ]
        }
      ]
    },
    {
      "cell_type": "code",
      "source": [
        "a = input('첫 번째 실수를 입력하세요>>>')\n",
        "b = input('두 번째 실수를 입력하세요>>>')\n",
        "\n",
        "print(f'{a}와 {b}의 합은 {a+b}입니다.')\n",
        "\n"
      ],
      "metadata": {
        "id": "XsBhYDitMNPV",
        "outputId": "dbccece5-2eda-461c-fa10-47a506e4212b",
        "colab": {
          "base_uri": "https://localhost:8080/"
        }
      },
      "execution_count": 11,
      "outputs": [
        {
          "output_type": "stream",
          "name": "stdout",
          "text": [
            "첫 번째 실수를 입력하세요>>>1.23\n",
            "두 번째 실수를 입력하세요>>>2.34\n",
            "1.23와 2.34의 합은 1.232.34입니다.\n"
          ]
        }
      ]
    },
    {
      "cell_type": "code",
      "source": [
        "a = float(input('첫 번째 실수를 입력하세요>>>'))\n",
        "b = float(input('두 번째 실수를 입력하세요>>>'))\n",
        "\n",
        "print(f'{a}와 {b}의 합은 {a+b}입니다.')"
      ],
      "metadata": {
        "id": "roRTiO3NNuO9",
        "outputId": "db777e91-a90c-42f1-d89a-d7ed55dadfb0",
        "colab": {
          "base_uri": "https://localhost:8080/"
        }
      },
      "execution_count": 12,
      "outputs": [
        {
          "output_type": "stream",
          "name": "stdout",
          "text": [
            "첫 번째 실수를 입력하세요>>>1.23\n",
            "두 번째 실수를 입력하세요>>>2.34\n",
            "1.23와 2.34의 합은 3.57입니다.\n"
          ]
        }
      ]
    },
    {
      "cell_type": "code",
      "source": [
        "month = [31,28,31,30,31,30,31,31,30,31,30,31]\n",
        "\n",
        "ask = int(input('1~12월 사이의 월을 입력하세요>>>'))\n",
        "\n",
        "print(f'{ask}월은 {month[ask-1]}일까지 있습니다.')"
      ],
      "metadata": {
        "id": "JnLiiHYhN9-A",
        "outputId": "64fc3f46-53c6-4258-fac6-d39f7c47c42f",
        "colab": {
          "base_uri": "https://localhost:8080/"
        }
      },
      "execution_count": 16,
      "outputs": [
        {
          "output_type": "stream",
          "name": "stdout",
          "text": [
            "1~12월 사이의 월을 입력하세요>>>2\n",
            "2월은 28일까지 있습니다.\n"
          ]
        }
      ]
    },
    {
      "cell_type": "code",
      "source": [
        "english_dict = {\n",
        "    'flower':'꽃',\n",
        "    'fly':'날다',\n",
        "    'floor':'바닥'\n",
        "}\n",
        "\n",
        "word = input('영어 단어를 입력하세요>>>')\n",
        "print(f'{word} : {english_dict[word]}')"
      ],
      "metadata": {
        "id": "4-0qsfFHQdBo",
        "outputId": "7bf6cfc0-852d-4858-cab9-7b86328272a4",
        "colab": {
          "base_uri": "https://localhost:8080/"
        }
      },
      "execution_count": 17,
      "outputs": [
        {
          "output_type": "stream",
          "name": "stdout",
          "text": [
            "영어 단어를 입력하세요>>>flower\n",
            "flower : 꽃\n"
          ]
        }
      ]
    },
    {
      "cell_type": "code",
      "source": [
        "s = set()\n",
        "\n",
        "\n",
        "hope = input('희망하는 수학여행지를 입력하세요>>>')\n",
        "s.add(hope)\n",
        "hope = input('희망하는 수학여행지를 입력하세요>>>')\n",
        "s.add(hope)\n",
        "hope = input('희망하는 수학여행지를 입력하세요>>>')\n",
        "s.add(hope)\n",
        "\n",
        "print(f'조사된 수학여행지는 {s}입니다.')\n"
      ],
      "metadata": {
        "id": "m8mretgfSANf",
        "outputId": "fb60de02-169b-4410-db4a-04ba225696ca",
        "colab": {
          "base_uri": "https://localhost:8080/"
        }
      },
      "execution_count": 19,
      "outputs": [
        {
          "output_type": "stream",
          "name": "stdout",
          "text": [
            "희망하는 수학여행지를 입력하세요>>>제주\n",
            "희망하는 수학여행지를 입력하세요>>>제주\n",
            "희망하는 수학여행지를 입력하세요>>>민속촌\n",
            "조사된 수학여행지는 {'민속촌', '제주'}입니다.\n"
          ]
        }
      ]
    },
    {
      "cell_type": "code",
      "source": [
        "a = 7\n",
        "b = 2\n",
        "print(f'{a}+{b} = {a + b}') \n",
        "print(f'{a}-{b} = {a - b}')\n",
        "print(f'{a}*{b} = {a * b}')\n",
        "print(f'{a}**{b} = {a ** b}')\n",
        "print(f'{a}/{b} = {a / b}')\n",
        "print(f'{a}//{b} = {a // b}')\n",
        "print(f'{a}%{b} = {a % b}')\n"
      ],
      "metadata": {
        "id": "r9gHXAqCVSgd",
        "outputId": "6ece0ac0-fd6b-44f0-faf7-ab8c50eb0541",
        "colab": {
          "base_uri": "https://localhost:8080/"
        }
      },
      "execution_count": 32,
      "outputs": [
        {
          "output_type": "stream",
          "name": "stdout",
          "text": [
            "7+2 = 9\n",
            "7-2 = 5\n",
            "7*2 = 14\n",
            "7**2 = 49\n",
            "7/2 = 3.5\n",
            "7//2 = 3\n",
            "7%2 = 1\n"
          ]
        }
      ]
    },
    {
      "cell_type": "code",
      "source": [
        "#대입 연산자\n",
        "\n",
        "a = 1\n",
        "b = 2\n",
        "\n",
        "a, b = 1, 2\n",
        "\n",
        "print(f'a = {a}, b = {b}')\n",
        "# 두 변수의 값 교환\n",
        "t = a\n",
        "a = b\n",
        "b = t\n",
        "print(f'a = {a}, b = {b}')\n",
        "\n",
        "#두 변수의 값 교환(파이썬)\n",
        "a,b =b, a\n",
        "print(f'a = {a}, b= {b}')\n",
        "\n",
        "\n"
      ],
      "metadata": {
        "id": "cF0n6VghXB_n",
        "outputId": "99fe983b-edff-4400-e22f-5407d23b5bfe",
        "colab": {
          "base_uri": "https://localhost:8080/"
        }
      },
      "execution_count": 34,
      "outputs": [
        {
          "output_type": "stream",
          "name": "stdout",
          "text": [
            "a = 1, b = 2\n",
            "a = 2, b = 1\n",
            "a = 1, b= 2\n"
          ]
        }
      ]
    },
    {
      "cell_type": "code",
      "source": [
        "\n",
        "# 복합 대입 연산자\n",
        "\n",
        "a = 1\n",
        "print(a)\n",
        "a = a+1\n",
        "print(a)\n",
        "a +=1\n",
        "print(a)\n",
        "\n",
        "a -=1 #a = a - 1\n",
        "print(a)"
      ],
      "metadata": {
        "id": "Cjbs_TivSnRb",
        "outputId": "c263f9bf-56c6-408c-9393-c8ab8fded41d",
        "colab": {
          "base_uri": "https://localhost:8080/"
        }
      },
      "execution_count": 35,
      "outputs": [
        {
          "output_type": "stream",
          "name": "stdout",
          "text": [
            "1\n",
            "2\n",
            "3\n",
            "2\n"
          ]
        }
      ]
    },
    {
      "cell_type": "code",
      "source": [
        "a, b = 10 ,20\n",
        "print(f'a = {a}, b = {b}')\n",
        "\n",
        "a,b = b, a  # 다른 언어에는 없는 파이썬 스어운 표현"
      ],
      "metadata": {
        "id": "uQTuFf0ZbU3Q",
        "outputId": "71d03529-51a6-4e98-ba52-b63007805382",
        "colab": {
          "base_uri": "https://localhost:8080/"
        }
      },
      "execution_count": 36,
      "outputs": [
        {
          "output_type": "stream",
          "name": "stdout",
          "text": [
            "a = 10, b = 20\n"
          ]
        }
      ]
    },
    {
      "cell_type": "code",
      "source": [
        "piggy_bank = 0\n",
        "\n",
        "money = 10000\n",
        "piggy_bank +=money      # piggy_bank = piggy_bank + money\n",
        "\n",
        "print(f'저금통에 용돈 {money}원을 넣었습니다.')\n",
        "print(f'지금 저금통에는{piggy_bank}원이 있습니다.')\n",
        "\n",
        "snack = 2000\n",
        "piggy_bank -= snack\n",
        "print(f'저금통에서 스낵 구입비{snack}원을 뺐습니다.')\n",
        "print(f'지금 저금통에는 {piggy_bank}원 있습니다.')"
      ],
      "metadata": {
        "id": "ZIDmBNclbrda",
        "outputId": "ae650348-46f5-4452-a3f6-3e49e0a4f85f",
        "colab": {
          "base_uri": "https://localhost:8080/"
        }
      },
      "execution_count": 43,
      "outputs": [
        {
          "output_type": "stream",
          "name": "stdout",
          "text": [
            "저금통에 용돈 10000원을 넣었습니다.\n",
            "지금 저금통에는10000원이 있습니다.\n",
            "저금통에서 스낵 구입비2000원을 뺐습니다.\n",
            "지금 저금통에는 8000원 있습니다.\n"
          ]
        }
      ]
    },
    {
      "cell_type": "code",
      "source": [
        "# p 81\n",
        "\n",
        "[1,3,5] + [2,4,6]"
      ],
      "metadata": {
        "id": "CvkyeUxJeHK2",
        "outputId": "a501eed9-9714-42d7-f037-b51b12ce06c2",
        "colab": {
          "base_uri": "https://localhost:8080/"
        }
      },
      "execution_count": 44,
      "outputs": [
        {
          "output_type": "execute_result",
          "data": {
            "text/plain": [
              "[1, 3, 5, 2, 4, 6]"
            ]
          },
          "metadata": {},
          "execution_count": 44
        }
      ]
    },
    {
      "cell_type": "code",
      "source": [
        "'hello'+' '+'python'"
      ],
      "metadata": {
        "id": "1GQfAts6eQbI",
        "outputId": "9116e9f0-cb90-477b-a797-e394517aa654",
        "colab": {
          "base_uri": "https://localhost:8080/",
          "height": 35
        }
      },
      "execution_count": 45,
      "outputs": [
        {
          "output_type": "execute_result",
          "data": {
            "text/plain": [
              "'hello python'"
            ],
            "application/vnd.google.colaboratory.intrinsic+json": {
              "type": "string"
            }
          },
          "metadata": {},
          "execution_count": 45
        }
      ]
    },
    {
      "cell_type": "code",
      "source": [
        "[1,3,5] * 2"
      ],
      "metadata": {
        "id": "t3ZyUU9Oedin",
        "outputId": "f49e52d7-d2fa-4f97-ccb3-0f30ff52f01f",
        "colab": {
          "base_uri": "https://localhost:8080/"
        }
      },
      "execution_count": 46,
      "outputs": [
        {
          "output_type": "execute_result",
          "data": {
            "text/plain": [
              "[1, 3, 5, 1, 3, 5]"
            ]
          },
          "metadata": {},
          "execution_count": 46
        }
      ]
    },
    {
      "cell_type": "code",
      "source": [
        "'*' * 5"
      ],
      "metadata": {
        "id": "u0L9WDJlemPX",
        "outputId": "f8df6647-557e-45cc-fea5-affe2520dfda",
        "colab": {
          "base_uri": "https://localhost:8080/",
          "height": 35
        }
      },
      "execution_count": 47,
      "outputs": [
        {
          "output_type": "execute_result",
          "data": {
            "text/plain": [
              "'*****'"
            ],
            "application/vnd.google.colaboratory.intrinsic+json": {
              "type": "string"
            }
          },
          "metadata": {},
          "execution_count": 47
        }
      ]
    },
    {
      "cell_type": "code",
      "source": [
        "'-' * 30"
      ],
      "metadata": {
        "id": "X1vVIFGOeqni",
        "outputId": "caeb7975-1801-4979-dec2-03267ca28764",
        "colab": {
          "base_uri": "https://localhost:8080/",
          "height": 35
        }
      },
      "execution_count": 48,
      "outputs": [
        {
          "output_type": "execute_result",
          "data": {
            "text/plain": [
              "'------------------------------'"
            ],
            "application/vnd.google.colaboratory.intrinsic+json": {
              "type": "string"
            }
          },
          "metadata": {},
          "execution_count": 48
        }
      ]
    },
    {
      "cell_type": "code",
      "source": [
        "# 멤버쉽 연산자\n",
        "# 어떤 값이 지정된 컬렉션에 (리스트, 문자열, 딕셔너리) 속해 있는지 \n",
        "# 여부를 판단하여 속해있으면 True 아니면 False로 반환\n",
        "\n",
        "5 in [ 1,2,3,4,5]\n"
      ],
      "metadata": {
        "id": "FNukA30De3pf",
        "outputId": "3a6c4e38-1c3b-4d82-9dbd-03fd7cbd181a",
        "colab": {
          "base_uri": "https://localhost:8080/"
        }
      },
      "execution_count": 49,
      "outputs": [
        {
          "output_type": "execute_result",
          "data": {
            "text/plain": [
              "True"
            ]
          },
          "metadata": {},
          "execution_count": 49
        }
      ]
    },
    {
      "cell_type": "code",
      "source": [
        "'n' in 'apple'"
      ],
      "metadata": {
        "id": "1h_B8guEfTHu",
        "outputId": "48a6efc8-7fd7-4fa0-958a-8545d82a8711",
        "colab": {
          "base_uri": "https://localhost:8080/"
        }
      },
      "execution_count": 50,
      "outputs": [
        {
          "output_type": "execute_result",
          "data": {
            "text/plain": [
              "False"
            ]
          },
          "metadata": {},
          "execution_count": 50
        }
      ]
    },
    {
      "cell_type": "code",
      "source": [
        "5 not in [1,2,3,4,5]"
      ],
      "metadata": {
        "id": "wSFkU3yUfc4G",
        "outputId": "b128e66a-94ac-43bd-d076-09f162d53374",
        "colab": {
          "base_uri": "https://localhost:8080/"
        }
      },
      "execution_count": 51,
      "outputs": [
        {
          "output_type": "execute_result",
          "data": {
            "text/plain": [
              "False"
            ]
          },
          "metadata": {},
          "execution_count": 51
        }
      ]
    },
    {
      "cell_type": "code",
      "source": [
        "# 삼항 연산자\n",
        "\n",
        "# 참 if         조건식    else 거짓\n",
        "\n",
        "1 if 1 < 2 else 2"
      ],
      "metadata": {
        "id": "oENzcTFFfi1e"
      },
      "execution_count": null,
      "outputs": []
    },
    {
      "cell_type": "code",
      "source": [
        "no = input('10~99 사이의 정수를 입력하세요>>>'))\n",
        "\n",
        "print(f'십의자리 :{no[0]}')\n",
        "print(f'일의자리 :{no[1]}')\n"
      ],
      "metadata": {
        "id": "2ngX4y3BgtH5",
        "outputId": "503d0122-3f94-4e08-b607-9c2d1e2909b3",
        "colab": {
          "base_uri": "https://localhost:8080/",
          "height": 137
        }
      },
      "execution_count": 55,
      "outputs": [
        {
          "output_type": "error",
          "ename": "SyntaxError",
          "evalue": "ignored",
          "traceback": [
            "\u001b[0;36m  File \u001b[0;32m\"<ipython-input-55-703c22398a79>\"\u001b[0;36m, line \u001b[0;32m1\u001b[0m\n\u001b[0;31m    no = input('10~99 사이의 정수를 입력하세요>>>'))\u001b[0m\n\u001b[0m                                        ^\u001b[0m\n\u001b[0;31mSyntaxError\u001b[0m\u001b[0;31m:\u001b[0m invalid syntax\n"
          ]
        }
      ]
    },
    {
      "cell_type": "code",
      "source": [
        "no = int(input('10~99 사이의 정수를 입력하세요>>>'))\n",
        "\n",
        "print"
      ],
      "metadata": {
        "id": "B5dCFi1ilRLb"
      },
      "execution_count": null,
      "outputs": []
    },
    {
      "cell_type": "code",
      "source": [
        "second = int(input('초를 입력하세요>>>'))\n",
        "\n",
        "print(f'변환 결과는 {second//3600}시간 {(second%3600)//60}분 {second % 60}초입니다.')\n",
        "\n",
        "#시간  60  60    3600    1시간은  3600"
      ],
      "metadata": {
        "id": "1P7y-GyWlcfK",
        "outputId": "643fb570-ed78-4fd1-fe01-ef4e9e84481d",
        "colab": {
          "base_uri": "https://localhost:8080/"
        }
      },
      "execution_count": 57,
      "outputs": [
        {
          "output_type": "stream",
          "name": "stdout",
          "text": [
            "초를 입력하세요>>>3690\n",
            "변환 결과는 1시간 1분 30초입니다.\n"
          ]
        }
      ]
    },
    {
      "cell_type": "code",
      "source": [
        "no = int(input('4자리 사원번호를 입력하세요>>>'))\n",
        "no_last = no % 10\n",
        "is_am = no_last >= 5\n",
        "\n",
        "\n",
        "print(f'근무 시간은 {(\"오전\"if is_am else \"오후\")}입니다.')"
      ],
      "metadata": {
        "id": "stuWxy30oUzm",
        "outputId": "bca6dfc4-86f6-4607-88dd-5ffc443b6cf4",
        "colab": {
          "base_uri": "https://localhost:8080/"
        }
      },
      "execution_count": 61,
      "outputs": [
        {
          "output_type": "stream",
          "name": "stdout",
          "text": [
            "4자리 사원번호를 입력하세요>>>1255\n",
            "근무 시간은 오전입니다.\n"
          ]
        }
      ]
    },
    {
      "cell_type": "code",
      "source": [
        ""
      ],
      "metadata": {
        "id": "ix6YdagFrJOi"
      },
      "execution_count": null,
      "outputs": []
    }
  ]
}