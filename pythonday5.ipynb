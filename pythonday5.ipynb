{
  "nbformat": 4,
  "nbformat_minor": 0,
  "metadata": {
    "colab": {
      "name": "pythonday5.ipynb",
      "provenance": [],
      "authorship_tag": "ABX9TyM1vpiMiRGaM3JX4J+F3NMM",
      "include_colab_link": true
    },
    "kernelspec": {
      "name": "python3",
      "display_name": "Python 3"
    },
    "language_info": {
      "name": "python"
    }
  },
  "cells": [
    {
      "cell_type": "markdown",
      "metadata": {
        "id": "view-in-github",
        "colab_type": "text"
      },
      "source": [
        "<a href=\"https://colab.research.google.com/github/Gichul515/python202204/blob/main/pythonday5.ipynb\" target=\"_parent\"><img src=\"https://colab.research.google.com/assets/colab-badge.svg\" alt=\"Open In Colab\"/></a>"
      ]
    },
    {
      "cell_type": "code",
      "execution_count": 2,
      "metadata": {
        "colab": {
          "base_uri": "https://localhost:8080/"
        },
        "id": "wwGhNZ5DLFR7",
        "outputId": "47e1cb2a-5cc8-42ce-fd20-11f0daa3dd1a"
      },
      "outputs": [
        {
          "output_type": "stream",
          "name": "stdout",
          "text": [
            "1\n",
            "2\n",
            "3\n"
          ]
        }
      ],
      "source": [
        "\n",
        "# p116 for문\n",
        "\n",
        "for n in [1,2,3]:\n",
        "  print(n)"
      ]
    },
    {
      "cell_type": "code",
      "source": [
        "n = 1\n",
        "while n in [1,2,3]:\n",
        "  print(n)\n",
        "  n += 1"
      ],
      "metadata": {
        "id": "JS8Jr5avLiJR"
      },
      "execution_count": null,
      "outputs": []
    },
    {
      "cell_type": "code",
      "source": [
        "# 반복 가능 객체 (컬렉션)\n",
        "# 시퀸스 자료형 - 문자열 리스트 튜플 range \n",
        "# 비시퀀스 자료형 - 셋, 딕셔너리 (순서가 없다.)\n",
        "\n",
        "for ch in 'Hello' :\n",
        "  print(ch)"
      ],
      "metadata": {
        "colab": {
          "base_uri": "https://localhost:8080/"
        },
        "id": "NN9N93HtMq8I",
        "outputId": "bfe4f018-90ad-4be3-97bb-cac7d033067c"
      },
      "execution_count": 3,
      "outputs": [
        {
          "output_type": "stream",
          "name": "stdout",
          "text": [
            "H\n",
            "e\n",
            "l\n",
            "l\n",
            "o\n"
          ]
        }
      ]
    },
    {
      "cell_type": "code",
      "source": [
        "# for 문과 list\n",
        "\n",
        "for item in ['가위' , '바위' , '보']:\n",
        "  print(item)                     "
      ],
      "metadata": {
        "colab": {
          "base_uri": "https://localhost:8080/"
        },
        "id": "bDRnbYDSNOtX",
        "outputId": "e21773ab-f09e-4237-f72e-f59adadef595"
      },
      "execution_count": 4,
      "outputs": [
        {
          "output_type": "stream",
          "name": "stdout",
          "text": [
            "가위\n",
            "바위\n",
            "보\n"
          ]
        }
      ]
    },
    {
      "cell_type": "code",
      "source": [
        "# for 문과 tuple\n",
        "for season in ('Spring' , 'Summer' , 'Autumn' , 'Winter'):\n",
        "  print(season)"
      ],
      "metadata": {
        "colab": {
          "base_uri": "https://localhost:8080/"
        },
        "id": "OlurSszsNlcm",
        "outputId": "2723d5bf-e401-4cb8-fde8-ac4d2033d547"
      },
      "execution_count": 7,
      "outputs": [
        {
          "output_type": "stream",
          "name": "stdout",
          "text": [
            "Spring\n",
            "Summer\n",
            "Autumn\n",
            "Winter\n"
          ]
        }
      ]
    },
    {
      "cell_type": "code",
      "source": [
        "# for 문과 range\n",
        "\n",
        "#range(5)    # 0부터 5미만까지 4까지\n",
        "#range(2,10) # 2부터 10미만 9까지\n"
      ],
      "metadata": {
        "colab": {
          "base_uri": "https://localhost:8080/"
        },
        "id": "H0R7cRgWN6uK",
        "outputId": "316acdae-23e5-44b1-86bb-507ab84df20a"
      },
      "execution_count": 8,
      "outputs": [
        {
          "output_type": "execute_result",
          "data": {
            "text/plain": [
              "range(0, 5)"
            ]
          },
          "metadata": {},
          "execution_count": 8
        }
      ]
    },
    {
      "cell_type": "code",
      "source": [
        "print(list(range(5)))"
      ],
      "metadata": {
        "colab": {
          "base_uri": "https://localhost:8080/"
        },
        "id": "dCZ8Stc2OUuK",
        "outputId": "309e90af-fd97-4156-ee08-60ea6acc78e6"
      },
      "execution_count": 10,
      "outputs": [
        {
          "output_type": "stream",
          "name": "stdout",
          "text": [
            "[0, 1, 2, 3, 4]\n"
          ]
        }
      ]
    },
    {
      "cell_type": "code",
      "source": [
        "print(list(range(2,10)))"
      ],
      "metadata": {
        "colab": {
          "base_uri": "https://localhost:8080/"
        },
        "id": "uvR3ZkkxOjRf",
        "outputId": "91f210d5-9428-4ea9-8446-3d9e1ba9e24a"
      },
      "execution_count": 11,
      "outputs": [
        {
          "output_type": "stream",
          "name": "stdout",
          "text": [
            "[2, 3, 4, 5, 6, 7, 8, 9]\n"
          ]
        }
      ]
    },
    {
      "cell_type": "code",
      "source": [
        "for n in [1,2,3,4,5,6,7,8,9,10]:\n",
        "  print(n)"
      ],
      "metadata": {
        "colab": {
          "base_uri": "https://localhost:8080/"
        },
        "id": "PCgLzwBdOvNI",
        "outputId": "d962816b-3509-4d35-d792-a68da92fb1aa"
      },
      "execution_count": 12,
      "outputs": [
        {
          "output_type": "stream",
          "name": "stdout",
          "text": [
            "1\n",
            "2\n",
            "3\n",
            "4\n",
            "5\n",
            "6\n",
            "7\n",
            "8\n",
            "9\n",
            "10\n"
          ]
        }
      ]
    },
    {
      "cell_type": "code",
      "source": [
        "for n in range(1,101):\n",
        "  print(n)"
      ],
      "metadata": {
        "id": "XCxkDvlNO_CU"
      },
      "execution_count": null,
      "outputs": []
    },
    {
      "cell_type": "code",
      "source": [
        "# for 문과 set      #하나씩 뽑아주는데 순서가 없다. 어떤 놈부터 나올지 모른다.\n",
        "for item in {'가위' , '바위' ,'보'}:\n",
        "  print(item)"
      ],
      "metadata": {
        "colab": {
          "base_uri": "https://localhost:8080/"
        },
        "id": "kedNQ3vNPKCr",
        "outputId": "dca58463-399c-49cf-831b-72134e6d8feb"
      },
      "execution_count": 15,
      "outputs": [
        {
          "output_type": "stream",
          "name": "stdout",
          "text": [
            "가위\n",
            "바위\n",
            "보\n"
          ]
        }
      ]
    },
    {
      "cell_type": "code",
      "source": [
        "#for 문과 딕셔너리\n",
        "\n",
        "person = {\n",
        "    'name':'에밀리',\n",
        "    'age':20\n",
        "}\n",
        "for item in person:\n",
        "  print(item, person[item])"
      ],
      "metadata": {
        "colab": {
          "base_uri": "https://localhost:8080/"
        },
        "id": "suz4Gl8dPn3s",
        "outputId": "d9de98bc-9b0d-4ee9-c4a9-41c8b8a8c189"
      },
      "execution_count": 17,
      "outputs": [
        {
          "output_type": "stream",
          "name": "stdout",
          "text": [
            "name 에밀리\n",
            "age 20\n"
          ]
        }
      ]
    },
    {
      "cell_type": "code",
      "source": [
        "# 129 #1\n",
        "\n",
        "\n",
        "for n in range(1,6):\n",
        "  print(n)"
      ],
      "metadata": {
        "colab": {
          "base_uri": "https://localhost:8080/"
        },
        "id": "Zv3AA3qgP-H9",
        "outputId": "0034fac0-da58-4d62-d5a3-f9346ff1c099"
      },
      "execution_count": 23,
      "outputs": [
        {
          "output_type": "stream",
          "name": "stdout",
          "text": [
            "1\n",
            "2\n",
            "3\n",
            "4\n",
            "5\n"
          ]
        }
      ]
    },
    {
      "cell_type": "code",
      "source": [
        "#2\n",
        "\n",
        "n = int(input('임의의 양수를 입력하세요>>>'))\n",
        "\n",
        "sum = 0\n",
        "for no in range(1,n+1):\n",
        "  sum += no\n",
        "print(sum)\n",
        "  "
      ],
      "metadata": {
        "colab": {
          "base_uri": "https://localhost:8080/"
        },
        "id": "mV4_3D0QQ_Ef",
        "outputId": "b9b85cd5-1d71-42a9-fde4-60e79e504f45"
      },
      "execution_count": 26,
      "outputs": [
        {
          "output_type": "stream",
          "name": "stdout",
          "text": [
            "임의의 양수를 입력하세요>>>3\n",
            "6\n"
          ]
        }
      ]
    },
    {
      "cell_type": "code",
      "source": [
        "# 3\n",
        "\n",
        "no= int(input('몇 개의 과일을 보관할까요? >>>'))\n",
        "\n",
        "basket = []\n",
        "\n",
        "for i in range(no):\n",
        "  fruit = input(f'{ i+1}번째 과일을 입력하세요>>>')\n",
        "  basket.append(fruit)\n",
        "\n",
        "print(f'입력받은 과일들은 {basket}입니다.')"
      ],
      "metadata": {
        "colab": {
          "base_uri": "https://localhost:8080/"
        },
        "id": "n1V-tpDWRXsQ",
        "outputId": "c31e84f5-5b54-43e3-aec7-519f34c8e224"
      },
      "execution_count": 36,
      "outputs": [
        {
          "output_type": "stream",
          "name": "stdout",
          "text": [
            "몇 개의 과일을 보관할까요? >>>3\n",
            "1번째 과일을 입력하세요>>>애플\n",
            "2번째 과일을 입력하세요>>>바나나\n",
            "3번째 과일을 입력하세요>>>체리\n",
            "입력받은 과일들은 ['애플', '바나나', '체리']입니다.\n"
          ]
        }
      ]
    },
    {
      "cell_type": "code",
      "source": [
        "# p 134 break\n",
        "\n",
        "n = 1\n",
        "while n <= 10:\n",
        "  print(n)\n",
        " \n",
        "  n += 1"
      ],
      "metadata": {
        "colab": {
          "base_uri": "https://localhost:8080/"
        },
        "id": "vODK7tkxUGfq",
        "outputId": "35537c01-1853-44f4-b048-d291589c00f2"
      },
      "execution_count": 38,
      "outputs": [
        {
          "output_type": "stream",
          "name": "stdout",
          "text": [
            "1\n",
            "2\n",
            "3\n",
            "4\n",
            "5\n",
            "6\n",
            "7\n",
            "8\n",
            "9\n",
            "10\n"
          ]
        }
      ]
    },
    {
      "cell_type": "code",
      "source": [
        "n = 1\n",
        "while n <= 10:\n",
        "  print(n)\n",
        "  if n == 10:\n",
        "    break\n",
        "  n += 1"
      ],
      "metadata": {
        "colab": {
          "base_uri": "https://localhost:8080/"
        },
        "id": "glRIrwHYUq-n",
        "outputId": "19462388-4d28-45de-e302-2e1099adf921"
      },
      "execution_count": 39,
      "outputs": [
        {
          "output_type": "stream",
          "name": "stdout",
          "text": [
            "1\n",
            "2\n",
            "3\n",
            "4\n",
            "5\n",
            "6\n",
            "7\n",
            "8\n",
            "9\n",
            "10\n"
          ]
        }
      ]
    },
    {
      "cell_type": "code",
      "source": [
        "# p 138 continue\n",
        "\n",
        "total = 0;\n",
        "for a in range(1,101):\n",
        "  if a % 3 == 0:\n",
        "    continue\n",
        "  total += a\n",
        "\n",
        "print(total)"
      ],
      "metadata": {
        "colab": {
          "base_uri": "https://localhost:8080/"
        },
        "id": "MT8dQFfjU-Hh",
        "outputId": "dd2c9a71-440b-486c-d55e-af7bca868e8a"
      },
      "execution_count": 43,
      "outputs": [
        {
          "output_type": "stream",
          "name": "stdout",
          "text": [
            "3367\n"
          ]
        }
      ]
    },
    {
      "cell_type": "code",
      "source": [
        "# p141 #1\n",
        "\n",
        "\n",
        "coin = 10000\n",
        "while True:\n",
        "  print(f'현재 {coin}원이 있습니다.')\n",
        "\n",
        "  if coin == 0:\n",
        "    break\n",
        "\n",
        "  pay = int(input('사용할 급액 입력 >>> '))\n",
        "\n",
        "  if pay <= 0:\n",
        "    print('0이하의 금액은 사용할 수 없습니다.')\n",
        "  elif pay > coin:\n",
        "    print(f'{pay - coin}원이 부족합니다.')\n",
        "  else:\n",
        "    coin -= pay"
      ],
      "metadata": {
        "colab": {
          "base_uri": "https://localhost:8080/"
        },
        "id": "zeZgRkVuYsGM",
        "outputId": "99f38f99-5bb8-473b-820f-94e32ecc0eda"
      },
      "execution_count": 61,
      "outputs": [
        {
          "output_type": "stream",
          "name": "stdout",
          "text": [
            "현재 10000원이 있습니다.\n",
            "사용할 급액 입력 >>> 5000\n",
            "현재 5000원이 있습니다.\n",
            "사용할 급액 입력 >>> -5000\n",
            "0이하의 금액은 사용할 수 없습니다.\n",
            "현재 5000원이 있습니다.\n",
            "사용할 급액 입력 >>> 6000\n",
            "1000원이 부족합니다.\n",
            "현재 5000원이 있습니다.\n",
            "사용할 급액 입력 >>> 4000\n",
            "현재 1000원이 있습니다.\n",
            "사용할 급액 입력 >>> 1000\n",
            "현재 0원이 있습니다.\n"
          ]
        }
      ]
    },
    {
      "cell_type": "code",
      "source": [
        "# p141 #2\n",
        "while True:\n",
        "  score = int(input('이번 영화의 평점을 입력하세요 >>> '))\n",
        "\n",
        "  if score > 5 or score <= 0:\n",
        "    print('평점은 1~5사이만 입력할수 있습니다.')\n",
        "  else:\n",
        "    print('평점 : ' , '★' * score )\n",
        "    break"
      ],
      "metadata": {
        "colab": {
          "base_uri": "https://localhost:8080/"
        },
        "id": "nTEVPQpDa-c7",
        "outputId": "3d56b840-c205-482a-9396-55d899c42acd"
      },
      "execution_count": 60,
      "outputs": [
        {
          "output_type": "stream",
          "name": "stdout",
          "text": [
            "이번 영화의 평점을 입력하세요 >>> 5\n",
            "평점 :  ★★★★★\n"
          ]
        }
      ]
    },
    {
      "cell_type": "code",
      "source": [
        "answer = 'qwerty'\n",
        "\n",
        "no = 1\n",
        "\n",
        "while True:\n",
        "  password = input('비밀번호를 입력하세요 >>> ')\n",
        "\n",
        "  if answer == password:\n",
        "    print('비밀번호를 맞혔습니다.')\n",
        "    break\n",
        "\n",
        "  if no == 5:\n",
        "    print('비밀번호 입력횟수를 초과했습니다.')\n",
        "    break\n",
        "\n",
        "  no += 1\n",
        "\n"
      ],
      "metadata": {
        "colab": {
          "base_uri": "https://localhost:8080/"
        },
        "id": "ME6yep8Dd7xK",
        "outputId": "43fc38d2-aef8-46bb-ce1f-05b04fbea1e2"
      },
      "execution_count": 59,
      "outputs": [
        {
          "output_type": "stream",
          "name": "stdout",
          "text": [
            "비밀번호를 입력하세요 >>> 123456\n",
            "비밀번호를 입력하세요 >>> asdfgh\n",
            "비밀번호를 입력하세요 >>> qwerty\n",
            "비밀번호를 맞혔습니다.\n"
          ]
        }
      ]
    },
    {
      "cell_type": "code",
      "source": [
        "# p 143 #4          #구구단은 푸는 방법을 외우자\n",
        "\n",
        "for i in range(2,10):\n",
        "  if i % 2 ==0:\n",
        "    continue\n",
        "  for j in range(1,10):\n",
        "    if j > i:\n",
        "      break\n",
        "    print(f'{i} * {j} = {i*j}')\n",
        "  print()\n"
      ],
      "metadata": {
        "colab": {
          "base_uri": "https://localhost:8080/"
        },
        "id": "sWAYdoYxgl55",
        "outputId": "a622da57-64be-44b5-c0ff-fd643ff1ac53"
      },
      "execution_count": 64,
      "outputs": [
        {
          "output_type": "stream",
          "name": "stdout",
          "text": [
            "3 * 1 = 3\n",
            "3 * 2 = 6\n",
            "3 * 3 = 9\n",
            "\n",
            "5 * 1 = 5\n",
            "5 * 2 = 10\n",
            "5 * 3 = 15\n",
            "5 * 4 = 20\n",
            "5 * 5 = 25\n",
            "\n",
            "7 * 1 = 7\n",
            "7 * 2 = 14\n",
            "7 * 3 = 21\n",
            "7 * 4 = 28\n",
            "7 * 5 = 35\n",
            "7 * 6 = 42\n",
            "7 * 7 = 49\n",
            "\n",
            "9 * 1 = 9\n",
            "9 * 2 = 18\n",
            "9 * 3 = 27\n",
            "9 * 4 = 36\n",
            "9 * 5 = 45\n",
            "9 * 6 = 54\n",
            "9 * 7 = 63\n",
            "9 * 8 = 72\n",
            "9 * 9 = 81\n",
            "\n"
          ]
        }
      ]
    },
    {
      "cell_type": "code",
      "source": [
        "# 146 내장함수    #외우기\n",
        "\n",
        "for item in enumerate({'가위', '바위', '보'}):\n",
        "  print(item)"
      ],
      "metadata": {
        "colab": {
          "base_uri": "https://localhost:8080/"
        },
        "id": "pa6Q1RBPmTwO",
        "outputId": "aa03e193-7767-49ef-af3b-2396a257166c"
      },
      "execution_count": 65,
      "outputs": [
        {
          "output_type": "stream",
          "name": "stdout",
          "text": [
            "(0, '가위')\n",
            "(1, '바위')\n",
            "(2, '보')\n"
          ]
        }
      ]
    },
    {
      "cell_type": "code",
      "source": [
        "for idx, item in enumerate(['가위' , '바위', '보']):\n",
        "  print(idx + 1, item)"
      ],
      "metadata": {
        "colab": {
          "base_uri": "https://localhost:8080/"
        },
        "id": "ZdqCX08zm6dO",
        "outputId": "05847d87-40ec-4568-85fe-98a9c7fb1e85"
      },
      "execution_count": 66,
      "outputs": [
        {
          "output_type": "stream",
          "name": "stdout",
          "text": [
            "1 가위\n",
            "2 바위\n",
            "3 보\n"
          ]
        }
      ]
    },
    {
      "cell_type": "code",
      "source": [
        "# zip()\n",
        "\n",
        "names = ['james','emily','amanda']\n",
        "scores = [60,70,80]\n",
        "\n",
        "for name, score in zip(names,scores):\n",
        "  print(f'{name}의 점수는 {score}점입니다.')"
      ],
      "metadata": {
        "colab": {
          "base_uri": "https://localhost:8080/"
        },
        "id": "RXPh_wWAnI7q",
        "outputId": "cf117755-40e4-490a-83d7-7ab56f1796f1"
      },
      "execution_count": 68,
      "outputs": [
        {
          "output_type": "stream",
          "name": "stdout",
          "text": [
            "james의 점수는 60점입니다.\n",
            "emily의 점수는 70점입니다.\n",
            "amanda의 점수는 80점입니다.\n"
          ]
        }
      ]
    },
    {
      "cell_type": "code",
      "source": [
        "# 184 사용자 함수 <<<아주중요\n",
        "\n",
        "# def 함수명(변수) :\n",
        "#     본문\n",
        "#     return 결과\n",
        "\n"
      ],
      "metadata": {
        "id": "8ev1iOm_ovLq"
      },
      "execution_count": null,
      "outputs": []
    },
    {
      "cell_type": "code",
      "source": [
        "# 1 인수 없고 반환 없는 사용자 정의 함수\n",
        "# 2 인수 있고 반환 없는 사용자 정의 함수\n",
        "# 3 인수 없고 반환 있는 사용자 정의 함수\n",
        "# 4 인수 있고 반환 있는 사용자 정의 함수"
      ],
      "metadata": {
        "id": "xb2UjO4OovSm"
      },
      "execution_count": null,
      "outputs": []
    },
    {
      "cell_type": "code",
      "source": [
        "# 1 인수 없고 반환 없는 사용자 정의 함수\n",
        "\n",
        "def welcome():\n",
        "  print('Hello World')\n",
        "\n",
        "\n",
        "welcome()  \n"
      ],
      "metadata": {
        "id": "gurjIWJQru6D"
      },
      "execution_count": null,
      "outputs": []
    },
    {
      "cell_type": "code",
      "source": [
        "# 1 인수 있고 반환 없는 사용자 정의 함수\n",
        "\n",
        "def welcome(name):\n",
        "  print('Hello World')\n",
        "\n",
        "\n",
        "welcome('Austin')  "
      ],
      "metadata": {
        "id": "Y1TNXI3ArxCd"
      },
      "execution_count": null,
      "outputs": []
    },
    {
      "cell_type": "code",
      "source": [
        "# 2 인수 있고 반환 없는 사용자 정의 함수\n",
        "\n",
        "def welcome(name):\n",
        "  print('Hello', name)\n",
        "\n",
        "\n",
        "welcome('Austin')  "
      ],
      "metadata": {
        "id": "14fTIbo4spsd"
      },
      "execution_count": null,
      "outputs": []
    },
    {
      "cell_type": "code",
      "source": [
        "# 3 인수 없고 반환 있는 사용자 정의 함수\n",
        "def welcome():\n",
        "  return 1\n",
        "\n",
        "welcome()"
      ],
      "metadata": {
        "id": "TRMaOAjdsryw"
      },
      "execution_count": null,
      "outputs": []
    },
    {
      "cell_type": "code",
      "source": [
        "# 4 인수 있고 반환 있는 사용자 정의 함수\n",
        "\n",
        "def add(a,b):\n",
        "  return a+b\n",
        "\n",
        "add(3,4)"
      ],
      "metadata": {
        "id": "bBDQIA3ust39"
      },
      "execution_count": null,
      "outputs": []
    },
    {
      "cell_type": "code",
      "source": [
        "def introduce(name,age):\n",
        "  print(f'내이름은 {name}이고, 나이는 {age}살입니다.')\n",
        "introduce('james', 25)"
      ],
      "metadata": {
        "colab": {
          "base_uri": "https://localhost:8080/"
        },
        "id": "vMhFyxJXs19j",
        "outputId": "3f2f89f8-f497-4c82-e5d7-b7f9213d1012"
      },
      "execution_count": 69,
      "outputs": [
        {
          "output_type": "stream",
          "name": "stdout",
          "text": [
            "내이름은 james이고, 나이는 25살입니다.\n"
          ]
        }
      ]
    },
    {
      "cell_type": "code",
      "source": [
        "# 가변 매개변수\n",
        "\n",
        "def add2(a,b):\n",
        "  return a+b\n",
        "\n",
        "def add3(a,b,c):\n",
        "  return a+b+c\n",
        "\n",
        "\n",
        "add2(3,4)\n",
        "\n",
        "def add(*args):\n",
        "  sum = 0\n",
        "  for item in args:\n",
        "    sum += item\n",
        "  print(sum)\n",
        "\n",
        "\n",
        "\n",
        "add(1,2,3,4,5,6,7,8,9)"
      ],
      "metadata": {
        "colab": {
          "base_uri": "https://localhost:8080/"
        },
        "id": "hYm2_NlwtNjg",
        "outputId": "fc90fbc8-2646-4031-b1f9-d883bc72512d"
      },
      "execution_count": 76,
      "outputs": [
        {
          "output_type": "stream",
          "name": "stdout",
          "text": [
            "45\n"
          ]
        }
      ]
    },
    {
      "cell_type": "code",
      "source": [
        "del sum\n",
        "\n",
        "def add(*args):\n",
        "  print(f'{sum(args)}입니다.')\n",
        "\n",
        "\n",
        "add(1,2,3)"
      ],
      "metadata": {
        "colab": {
          "base_uri": "https://localhost:8080/"
        },
        "id": "UfDzZZ9NxHSq",
        "outputId": "9ea3b0dd-5e5c-42a3-a846-49c38d39b11b"
      },
      "execution_count": 79,
      "outputs": [
        {
          "output_type": "stream",
          "name": "stdout",
          "text": [
            "6입니다.\n"
          ]
        }
      ]
    },
    {
      "cell_type": "code",
      "source": [
        "# 디폴트 매개변수\n",
        "def greet(message='안녕하세요'):\n",
        "  print(message)\n",
        "\n",
        "greet()"
      ],
      "metadata": {
        "colab": {
          "base_uri": "https://localhost:8080/"
        },
        "id": "OcshQFTwvACc",
        "outputId": "85024478-45eb-450b-e9b2-2ae54f9efb89"
      },
      "execution_count": 77,
      "outputs": [
        {
          "output_type": "stream",
          "name": "stdout",
          "text": [
            "안녕하세요\n"
          ]
        }
      ]
    },
    {
      "cell_type": "code",
      "source": [
        "greet('방가방가')"
      ],
      "metadata": {
        "colab": {
          "base_uri": "https://localhost:8080/"
        },
        "id": "usXgZqeLvRle",
        "outputId": "3b42f4c8-b24a-41de-b845-4965226de34b"
      },
      "execution_count": 78,
      "outputs": [
        {
          "output_type": "stream",
          "name": "stdout",
          "text": [
            "방가방가\n"
          ]
        }
      ]
    },
    {
      "cell_type": "code",
      "source": [
        ""
      ],
      "metadata": {
        "id": "7LjylHeBv6B1"
      },
      "execution_count": null,
      "outputs": []
    }
  ]
}