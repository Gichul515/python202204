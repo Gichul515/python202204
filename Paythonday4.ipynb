{
  "nbformat": 4,
  "nbformat_minor": 0,
  "metadata": {
    "colab": {
      "name": "Paythonday4.ipynb",
      "provenance": [],
      "authorship_tag": "ABX9TyNf2zMFkQIQnSdPrwL+Ajoj",
      "include_colab_link": true
    },
    "kernelspec": {
      "name": "python3",
      "display_name": "Python 3"
    },
    "language_info": {
      "name": "python"
    }
  },
  "cells": [
    {
      "cell_type": "markdown",
      "metadata": {
        "id": "view-in-github",
        "colab_type": "text"
      },
      "source": [
        "<a href=\"https://colab.research.google.com/github/Gichul515/python202204/blob/main/Paythonday4.ipynb\" target=\"_parent\"><img src=\"https://colab.research.google.com/assets/colab-badge.svg\" alt=\"Open In Colab\"/></a>"
      ]
    },
    {
      "cell_type": "code",
      "execution_count": 3,
      "metadata": {
        "colab": {
          "base_uri": "https://localhost:8080/"
        },
        "id": "dO_JJ_3CZ59d",
        "outputId": "d96f0113-af4b-48a9-ef6a-5ef95fc71c21"
      },
      "outputs": [
        {
          "output_type": "stream",
          "name": "stdout",
          "text": [
            "양수\n",
            "양수\n"
          ]
        }
      ],
      "source": [
        "# page 90\n",
        "\n",
        "# 조건문---매일 쓰는 가장 중요하고 많이쓴다.\n",
        "\n",
        "# IF - 특징 조건을 만족하는지 여부에따라 실행하는 코드가 달라져야 할때 사용된다.\n",
        "\n",
        "a = 5\n",
        "\n",
        "if a > 0:\n",
        "  print('양수')\n",
        "\n",
        "if True: \n",
        "  print('양수')    #들어쓰기가 아주 중요하다\n",
        "\n",
        "  "
      ]
    },
    {
      "cell_type": "code",
      "source": [
        "# if - else \n",
        "\n",
        "a=-5\n",
        "if a>=0:\n",
        "  print('양수')\n",
        "else:\n",
        "  print('음수')"
      ],
      "metadata": {
        "colab": {
          "base_uri": "https://localhost:8080/"
        },
        "id": "2tiSkbAae4B-",
        "outputId": "6a6632a0-0ca8-4e4c-c65e-a49ee08988a4"
      },
      "execution_count": 4,
      "outputs": [
        {
          "output_type": "stream",
          "name": "stdout",
          "text": [
            "음수\n"
          ]
        }
      ]
    },
    {
      "cell_type": "code",
      "source": [
        "age = int(input('몇살입니까?>>>'))\n",
        "if age >=20:\n",
        "  print('성인')\n",
        "else:\n",
        "  print('미성년자')"
      ],
      "metadata": {
        "colab": {
          "base_uri": "https://localhost:8080/"
        },
        "id": "4yyvYDacfXgz",
        "outputId": "9c6fefe5-69ef-423d-b6f3-99ff0d5b51b2"
      },
      "execution_count": 5,
      "outputs": [
        {
          "output_type": "stream",
          "name": "stdout",
          "text": [
            "몇살입니까?>>>21\n",
            "성인\n"
          ]
        }
      ]
    },
    {
      "cell_type": "code",
      "source": [
        "# if - elif\n",
        "\n",
        "important = 40\n",
        "\n",
        "if important >= 100:\n",
        "  print('상')\n",
        "else:\n",
        "  if important >=50:\n",
        "    print('중')\n",
        "  else:\n",
        "    print('하')"
      ],
      "metadata": {
        "colab": {
          "base_uri": "https://localhost:8080/"
        },
        "id": "T6c5oZsif_7k",
        "outputId": "69510493-5d57-4d59-abf2-6773a7e2d4ef"
      },
      "execution_count": 12,
      "outputs": [
        {
          "output_type": "stream",
          "name": "stdout",
          "text": [
            "하\n"
          ]
        }
      ]
    },
    {
      "cell_type": "code",
      "source": [
        "important = 40\n",
        "\n",
        "if important >= 100:\n",
        "  print('상')\n",
        "elif important >=50:\n",
        "  print('중')\n",
        "else:\n",
        "  print('하')"
      ],
      "metadata": {
        "colab": {
          "base_uri": "https://localhost:8080/"
        },
        "id": "KPQ8yBd7hFAr",
        "outputId": "7f3dc2d9-76e3-420c-e185-08f482d6eb5a"
      },
      "execution_count": 11,
      "outputs": [
        {
          "output_type": "stream",
          "name": "stdout",
          "text": [
            "하\n"
          ]
        }
      ]
    },
    {
      "cell_type": "code",
      "source": [
        "score = 40\n",
        "\n",
        "if score >= 90:\n",
        "  print('A')\n",
        "elif score >=80:\n",
        "  print('B')\n",
        "elif score >=70:\n",
        "  print('C')\n",
        "elif score >=60:\n",
        "  print('D')\n",
        "\n",
        "else:\n",
        "  print('F')"
      ],
      "metadata": {
        "colab": {
          "base_uri": "https://localhost:8080/"
        },
        "id": "63aJHta8hjv2",
        "outputId": "8eb8a87e-8363-4e51-ddd9-5a989ae24239"
      },
      "execution_count": 13,
      "outputs": [
        {
          "output_type": "stream",
          "name": "stdout",
          "text": [
            "F\n"
          ]
        }
      ]
    },
    {
      "cell_type": "code",
      "source": [
        "score =int(input('점수를입력하세요>>>'))\n",
        "\n",
        "\n",
        "\n",
        "if score >=90:\n",
        "    print(f'점수는 {score}점이고 , 학점은 A학점입니다.')\n",
        "elif score >=80:\n",
        "    print(f'점수는 {score}점이고 , 학점은 B학점입니다.')\n",
        "elif score >=70:\n",
        "    print(f'점수는 {score}점이고 , 학점은 C학점입니다.')\n",
        "elif score >=60:\n",
        "    print(f'점수는 {score}점이고 , 학점은 D학점입니다.')\n",
        "else:\n",
        "    print(f'점수는 {score}점이고 , 학점은 F학점입니다.')"
      ],
      "metadata": {
        "colab": {
          "base_uri": "https://localhost:8080/"
        },
        "id": "ztnZPv7oiILk",
        "outputId": "c377e1b9-4aa7-40b9-aed3-b81e90b029ac"
      },
      "execution_count": 17,
      "outputs": [
        {
          "output_type": "stream",
          "name": "stdout",
          "text": [
            "점수를입력하세요>>>95\n",
            "점수는 95점이고 , 학점은 A학점입니다.\n"
          ]
        }
      ]
    },
    {
      "cell_type": "code",
      "source": [
        "score =int(input('점수를입력하세요>>>'))\n",
        "\n",
        "\n",
        "\n",
        "if score >=90:\n",
        "    hak = 'A'\n",
        "elif score >=80:\n",
        "    hak = 'B'\n",
        "elif score >=70:\n",
        "    hak = 'C'\n",
        "elif score >=60:\n",
        "    hak = 'D'\n",
        "else:\n",
        "    hak = 'F'\n",
        "\n",
        "print(f'점수는 {score}점이고 , 학점은 {hak}학점입니다.')"
      ],
      "metadata": {
        "colab": {
          "base_uri": "https://localhost:8080/"
        },
        "id": "rDqcDaIrlhdv",
        "outputId": "3efa00b7-6875-4d80-f31e-f86f10c00738"
      },
      "execution_count": 18,
      "outputs": [
        {
          "output_type": "stream",
          "name": "stdout",
          "text": [
            "점수를입력하세요>>>95\n",
            "점수는 95점이고 , 학점은 A학점입니다.\n"
          ]
        }
      ]
    },
    {
      "cell_type": "code",
      "source": [
        "# p 99   #2\n",
        "\n",
        "num =int(input('정수를입력하세요>>>'))\n",
        "if num % 3 ==0:\n",
        "  print(f' {num}는 3의 배수입니다.')\n",
        "else:\n",
        "  print(f' {num}는 3의 배수가 아닙니다.')"
      ],
      "metadata": {
        "colab": {
          "base_uri": "https://localhost:8080/"
        },
        "id": "zw2ujaEijwwH",
        "outputId": "65253472-126c-45dd-caa9-0071e6f3c2b9"
      },
      "execution_count": 20,
      "outputs": [
        {
          "output_type": "stream",
          "name": "stdout",
          "text": [
            "정수를입력하세요>>>15\n",
            " 15는 3의 배수입니다.\n"
          ]
        }
      ]
    },
    {
      "cell_type": "code",
      "source": [
        "# 3\n",
        "\n",
        "no1 =int(input('정수1입력'))\n",
        "no2 =int(input('정수2입력'))\n",
        "no3 =int(input('정수3입력'))\n",
        "\n"
      ],
      "metadata": {
        "id": "2p6b_y7PpNOu"
      },
      "execution_count": null,
      "outputs": []
    },
    {
      "cell_type": "code",
      "source": [
        "# 4\n",
        "\n",
        "car = input('차량번호를 입력하세요>>>'))\n",
        "\n",
        "no = car[-1]\n",
        "\n"
      ],
      "metadata": {
        "colab": {
          "base_uri": "https://localhost:8080/",
          "height": 137
        },
        "id": "du0B-Ub_rtH0",
        "outputId": "ad186a5c-2e76-43f5-8506-961f7736bf04"
      },
      "execution_count": 25,
      "outputs": [
        {
          "output_type": "error",
          "ename": "SyntaxError",
          "evalue": "ignored",
          "traceback": [
            "\u001b[0;36m  File \u001b[0;32m\"<ipython-input-25-7194c77adcd1>\"\u001b[0;36m, line \u001b[0;32m3\u001b[0m\n\u001b[0;31m    car = input('차량번호를 입력하세요>>>'))\u001b[0m\n\u001b[0m                                 ^\u001b[0m\n\u001b[0;31mSyntaxError\u001b[0m\u001b[0;31m:\u001b[0m invalid syntax\n"
          ]
        }
      ]
    },
    {
      "cell_type": "code",
      "source": [
        "# 반복문   \n",
        "# while  -- 반복횟수를 정확히 모를 때                              해질때까지 운동장을 돌자\n",
        "# for    -- 반복횟수를 정확히 할 때   헷갈리면 for를 쓰는게 좋다.  운동장을 10바퀴돌자\n",
        "\n",
        "# while True:\n",
        "# print('hello python')\n",
        "\n",
        "n = 1\n",
        "while n <= 10:\n",
        "  print(f'{n} : hello world')\n",
        "  n += 1"
      ],
      "metadata": {
        "colab": {
          "base_uri": "https://localhost:8080/"
        },
        "id": "LDVpMyFyuclN",
        "outputId": "f7d19b8a-0cc4-4bf1-90ec-11b767b503ba"
      },
      "execution_count": 28,
      "outputs": [
        {
          "output_type": "stream",
          "name": "stdout",
          "text": [
            "1 : hello world\n",
            "2 : hello world\n",
            "3 : hello world\n",
            "4 : hello world\n",
            "5 : hello world\n",
            "6 : hello world\n",
            "7 : hello world\n",
            "8 : hello world\n",
            "9 : hello world\n",
            "10 : hello world\n"
          ]
        }
      ]
    },
    {
      "cell_type": "code",
      "source": [
        "n = 10\n",
        "while n>=1:\n",
        "  print(n)\n",
        "  n -= 1"
      ],
      "metadata": {
        "colab": {
          "base_uri": "https://localhost:8080/"
        },
        "id": "G4PbatfkzPOl",
        "outputId": "5611c608-871f-475d-bf37-bb15dfcc0a7b"
      },
      "execution_count": 29,
      "outputs": [
        {
          "output_type": "stream",
          "name": "stdout",
          "text": [
            "10\n",
            "9\n",
            "8\n",
            "7\n",
            "6\n",
            "5\n",
            "4\n",
            "3\n",
            "2\n",
            "1\n"
          ]
        }
      ]
    },
    {
      "cell_type": "code",
      "source": [
        "my_list = []\n",
        "\n",
        "n = int(input('정수를 입력하세요(종료는 0입니다.)>>>'))\n",
        "\n",
        "while n !=0:\n",
        "  my_list . append(n)\n",
        "  n = int(input('정수를 입력하세요(종료는 0입니다.>>>'))\n",
        "\n",
        "print(my_list)"
      ],
      "metadata": {
        "colab": {
          "base_uri": "https://localhost:8080/"
        },
        "id": "hzdHcXWP2irZ",
        "outputId": "413800b3-7642-4339-92e4-6837f4af8a30"
      },
      "execution_count": 31,
      "outputs": [
        {
          "output_type": "stream",
          "name": "stdout",
          "text": [
            "정수를 입력하세요(종료는 0입니다.)>>>2\n",
            "정수를 입력하세요(종료는 0입니다.>>>5\n",
            "정수를 입력하세요(종료는 0입니다.>>>3\n",
            "정수를 입력하세요(종료는 0입니다.>>>0\n",
            "[2, 5, 3]\n"
          ]
        }
      ]
    },
    {
      "cell_type": "code",
      "source": [
        "day = 1\n",
        "while day <= 5:\n",
        "  print(day ,'일차' , hour ,'교시')\n",
        "  hour += 1\n",
        "  day += 1"
      ],
      "metadata": {
        "colab": {
          "base_uri": "https://localhost:8080/",
          "height": 248
        },
        "id": "AR0gzPCg3uIQ",
        "outputId": "15c0fda2-cddb-46ec-8cbc-30af0f66fca2"
      },
      "execution_count": 35,
      "outputs": [
        {
          "output_type": "error",
          "ename": "AttributeError",
          "evalue": "ignored",
          "traceback": [
            "\u001b[0;31m---------------------------------------------------------------------------\u001b[0m",
            "\u001b[0;31mAttributeError\u001b[0m                            Traceback (most recent call last)",
            "\u001b[0;32m<ipython-input-35-05c2580c6f3e>\u001b[0m in \u001b[0;36m<module>\u001b[0;34m()\u001b[0m\n\u001b[1;32m      1\u001b[0m \u001b[0mday\u001b[0m \u001b[0;34m=\u001b[0m \u001b[0;36m1\u001b[0m\u001b[0;34m\u001b[0m\u001b[0;34m\u001b[0m\u001b[0m\n\u001b[1;32m      2\u001b[0m \u001b[0;32mwhile\u001b[0m \u001b[0mday\u001b[0m \u001b[0;34m<=\u001b[0m \u001b[0;36m5\u001b[0m\u001b[0;34m:\u001b[0m\u001b[0;34m\u001b[0m\u001b[0;34m\u001b[0m\u001b[0m\n\u001b[0;32m----> 3\u001b[0;31m   \u001b[0mprint\u001b[0m\u001b[0;34m(\u001b[0m\u001b[0mday\u001b[0m \u001b[0;34m,\u001b[0m\u001b[0;34m'일차'\u001b[0m \u001b[0;34m.\u001b[0m \u001b[0mhour\u001b[0m \u001b[0;34m,\u001b[0m\u001b[0;34m'교시'\u001b[0m\u001b[0;34m)\u001b[0m\u001b[0;34m\u001b[0m\u001b[0;34m\u001b[0m\u001b[0m\n\u001b[0m\u001b[1;32m      4\u001b[0m   \u001b[0mhour\u001b[0m \u001b[0;34m+=\u001b[0m \u001b[0;36m1\u001b[0m\u001b[0;34m\u001b[0m\u001b[0;34m\u001b[0m\u001b[0m\n\u001b[1;32m      5\u001b[0m   \u001b[0mday\u001b[0m \u001b[0;34m+=\u001b[0m \u001b[0;36m1\u001b[0m\u001b[0;34m\u001b[0m\u001b[0;34m\u001b[0m\u001b[0m\n",
            "\u001b[0;31mAttributeError\u001b[0m: 'str' object has no attribute 'hour'"
          ]
        }
      ]
    },
    {
      "cell_type": "code",
      "source": [
        "dan = 2\n",
        "while dan <= 9:                         # 외우기\n",
        "  no = 1\n",
        "  while no <= 9:\n",
        "   print(f'{dan} * {no} = {dan * no}')\n",
        "   no += 1\n",
        "  dan +=1"
      ],
      "metadata": {
        "colab": {
          "base_uri": "https://localhost:8080/"
        },
        "id": "V7q5QZrW4rVq",
        "outputId": "9b35bade-2aab-4f57-b32d-d21aa4038429"
      },
      "execution_count": 37,
      "outputs": [
        {
          "output_type": "stream",
          "name": "stdout",
          "text": [
            "2 * 1 = 2\n",
            "2 * 2 = 4\n",
            "2 * 3 = 6\n",
            "2 * 4 = 8\n",
            "2 * 5 = 10\n",
            "2 * 6 = 12\n",
            "2 * 7 = 14\n",
            "2 * 8 = 16\n",
            "2 * 9 = 18\n",
            "3 * 1 = 3\n",
            "3 * 2 = 6\n",
            "3 * 3 = 9\n",
            "3 * 4 = 12\n",
            "3 * 5 = 15\n",
            "3 * 6 = 18\n",
            "3 * 7 = 21\n",
            "3 * 8 = 24\n",
            "3 * 9 = 27\n",
            "4 * 1 = 4\n",
            "4 * 2 = 8\n",
            "4 * 3 = 12\n",
            "4 * 4 = 16\n",
            "4 * 5 = 20\n",
            "4 * 6 = 24\n",
            "4 * 7 = 28\n",
            "4 * 8 = 32\n",
            "4 * 9 = 36\n",
            "5 * 1 = 5\n",
            "5 * 2 = 10\n",
            "5 * 3 = 15\n",
            "5 * 4 = 20\n",
            "5 * 5 = 25\n",
            "5 * 6 = 30\n",
            "5 * 7 = 35\n",
            "5 * 8 = 40\n",
            "5 * 9 = 45\n",
            "6 * 1 = 6\n",
            "6 * 2 = 12\n",
            "6 * 3 = 18\n",
            "6 * 4 = 24\n",
            "6 * 5 = 30\n",
            "6 * 6 = 36\n",
            "6 * 7 = 42\n",
            "6 * 8 = 48\n",
            "6 * 9 = 54\n",
            "7 * 1 = 7\n",
            "7 * 2 = 14\n",
            "7 * 3 = 21\n",
            "7 * 4 = 28\n",
            "7 * 5 = 35\n",
            "7 * 6 = 42\n",
            "7 * 7 = 49\n",
            "7 * 8 = 56\n",
            "7 * 9 = 63\n",
            "8 * 1 = 8\n",
            "8 * 2 = 16\n",
            "8 * 3 = 24\n",
            "8 * 4 = 32\n",
            "8 * 5 = 40\n",
            "8 * 6 = 48\n",
            "8 * 7 = 56\n",
            "8 * 8 = 64\n",
            "8 * 9 = 72\n",
            "9 * 1 = 9\n",
            "9 * 2 = 18\n",
            "9 * 3 = 27\n",
            "9 * 4 = 36\n",
            "9 * 5 = 45\n",
            "9 * 6 = 54\n",
            "9 * 7 = 63\n",
            "9 * 8 = 72\n",
            "9 * 9 = 81\n"
          ]
        }
      ]
    },
    {
      "cell_type": "code",
      "source": [
        "no =int(input('정수를 입력하세요>>>'))\n",
        "cnt = 1\n",
        "\n",
        "if no <= 0:\n",
        "  print('잘못된 입력입니다.')\n",
        "else:\n",
        "  while cnt <= no:\n",
        "    print(f'{cnt}번째 Hello')\n",
        "    cnt += 1 "
      ],
      "metadata": {
        "colab": {
          "base_uri": "https://localhost:8080/"
        },
        "id": "WuHK-taC5e_g",
        "outputId": "ba17b7d0-b3a8-45fe-85e8-5a03572d4e11"
      },
      "execution_count": 40,
      "outputs": [
        {
          "output_type": "stream",
          "name": "stdout",
          "text": [
            "정수를 입력하세요>>>5\n",
            "1번째 Hello\n",
            "2번째 Hello\n",
            "3번째 Hello\n",
            "4번째 Hello\n",
            "5번째 Hello\n"
          ]
        }
      ]
    },
    {
      "cell_type": "code",
      "source": [
        "\n",
        "n = 1\n",
        "while n <= 100:\n",
        "  if n % 7 ==0:\n",
        "   print(n)\n",
        "  n += 1"
      ],
      "metadata": {
        "colab": {
          "base_uri": "https://localhost:8080/"
        },
        "id": "B_RfDjrZ-e5E",
        "outputId": "40a6716a-57fd-4887-8855-2aac350ed5bf"
      },
      "execution_count": 42,
      "outputs": [
        {
          "output_type": "stream",
          "name": "stdout",
          "text": [
            "7\n",
            "14\n",
            "21\n",
            "28\n",
            "35\n",
            "42\n",
            "49\n",
            "56\n",
            "63\n",
            "70\n",
            "77\n",
            "84\n",
            "91\n",
            "98\n"
          ]
        }
      ]
    },
    {
      "cell_type": "code",
      "source": [
        ""
      ],
      "metadata": {
        "id": "KbytBzooAm8e"
      },
      "execution_count": null,
      "outputs": []
    }
  ]
}