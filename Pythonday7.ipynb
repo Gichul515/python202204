{
  "nbformat": 4,
  "nbformat_minor": 0,
  "metadata": {
    "colab": {
      "name": "Pythonday7.ipynb",
      "provenance": [],
      "authorship_tag": "ABX9TyO6I3TJnX9aZOMp8Pdwzk+T",
      "include_colab_link": true
    },
    "kernelspec": {
      "name": "python3",
      "display_name": "Python 3"
    },
    "language_info": {
      "name": "python"
    }
  },
  "cells": [
    {
      "cell_type": "markdown",
      "metadata": {
        "id": "view-in-github",
        "colab_type": "text"
      },
      "source": [
        "<a href=\"https://colab.research.google.com/github/Gichul515/python202204/blob/main/Pythonday7.ipynb\" target=\"_parent\"><img src=\"https://colab.research.google.com/assets/colab-badge.svg\" alt=\"Open In Colab\"/></a>"
      ]
    },
    {
      "cell_type": "code",
      "execution_count": null,
      "metadata": {
        "colab": {
          "base_uri": "https://localhost:8080/"
        },
        "id": "CSC7RyYYQdyL",
        "outputId": "d6908aad-2cb7-4d74-8407-cb725bc9f3a3"
      },
      "outputs": [
        {
          "output_type": "stream",
          "name": "stdout",
          "text": [
            "3\n"
          ]
        }
      ],
      "source": [
        "# 클래스와 객체\n",
        "\n",
        "result = 0\n",
        "\n",
        "def add(num):  # 슈퍼마켓 계산대 계산기1\n",
        "  global result\n",
        "  result += num\n",
        "  return result\n",
        "\n",
        "\n",
        "print(add(3))"
      ]
    },
    {
      "cell_type": "code",
      "source": [
        "result1 = 0\n",
        "result2 = 0\n",
        "\n",
        "def add1(num):  # 슈퍼마켓 계산대 계산기1\n",
        "  global result1\n",
        "  result1 += num\n",
        "  return result1\n",
        "\n",
        "def add2(num):  # 슈퍼마켓 계산대 계산기1\n",
        "  global result2\n",
        "  result2 += num\n",
        "  return result2\n",
        "\n",
        "print(add2(4))"
      ],
      "metadata": {
        "colab": {
          "base_uri": "https://localhost:8080/"
        },
        "id": "nKz9BbLmRqlm",
        "outputId": "440f0c85-ceaa-4457-ae17-fb08d5400361"
      },
      "execution_count": null,
      "outputs": [
        {
          "output_type": "stream",
          "name": "stdout",
          "text": [
            "4\n"
          ]
        }
      ]
    },
    {
      "cell_type": "code",
      "source": [
        ""
      ],
      "metadata": {
        "id": "oIBKE6OCSke_"
      },
      "execution_count": null,
      "outputs": []
    },
    {
      "cell_type": "code",
      "source": [
        "print(add1(1))\n",
        "print(add2(3))"
      ],
      "metadata": {
        "colab": {
          "base_uri": "https://localhost:8080/"
        },
        "id": "5jcSJljSSFUu",
        "outputId": "3461d630-718c-4431-8d51-2654c232f2df"
      },
      "execution_count": null,
      "outputs": [
        {
          "output_type": "stream",
          "name": "stdout",
          "text": [
            "1\n",
            "7\n"
          ]
        }
      ]
    },
    {
      "cell_type": "code",
      "source": [
        "class Calculator:\n",
        "  def __init__(self):  # 생성자 -  객체가 생성될때 자동으로 실행되는 일종의 매서드\n",
        "    self.result = 0\n",
        "\n",
        "  def add(self,num):\n",
        "    self.result += num\n",
        "    return self.result\n",
        "\n",
        "\n",
        "cal1 = Calculator()\n",
        "cal2 = Calculator()\n",
        "\n",
        "print(cal1.add(3))\n",
        "print(cal2.add(4))\n",
        "\n",
        "print(cal1.add(3))\n",
        "print(cal2.add(7))\n",
        "\n",
        "# 붕어빵 기계 - 클래스\n",
        "# 붕어빵 - 객체"
      ],
      "metadata": {
        "colab": {
          "base_uri": "https://localhost:8080/"
        },
        "id": "Ha-BVMM4Sldv",
        "outputId": "6be95e84-2b82-4cb3-9b32-19246fe1c273"
      },
      "execution_count": null,
      "outputs": [
        {
          "output_type": "stream",
          "name": "stdout",
          "text": [
            "3\n",
            "4\n",
            "6\n",
            "11\n"
          ]
        }
      ]
    },
    {
      "cell_type": "code",
      "source": [
        "class Candy:\n",
        "  # def set_info(self, shape, color):\n",
        "  #   self .shape = shape\n",
        "  #   self .color = color\n",
        "  def __init__(self) -> None:\n",
        "      pass\n",
        "satang = Candy()\n",
        "# satang.set_info('circle', 'brown')\n",
        "\n",
        "print(satang.shape)\n",
        "print(satang.color)"
      ],
      "metadata": {
        "colab": {
          "base_uri": "https://localhost:8080/"
        },
        "id": "4dVHgdYOVF_0",
        "outputId": "8dcb272e-e961-4803-b892-d50e432cdd48"
      },
      "execution_count": null,
      "outputs": [
        {
          "output_type": "stream",
          "name": "stdout",
          "text": [
            "circle\n",
            "brown\n"
          ]
        }
      ]
    },
    {
      "cell_type": "code",
      "source": [
        "class Korean:\n",
        "  country = '한국'  # 클래스 변수\n",
        "\n",
        "  def __init__(self, name, age, address):\n",
        "    self .name = name\n",
        "    self .age = age\n",
        "    self .address = address\n",
        "\n",
        "man = Korean('홍길동','17','서울')\n",
        "man.name\n",
        "man.country\n",
        "Korean.country\n",
        "\n",
        "woman = Korean('성춘향', '14' ,'남원')\n",
        "woman.name\n",
        "    "
      ],
      "metadata": {
        "colab": {
          "base_uri": "https://localhost:8080/",
          "height": 35
        },
        "id": "VKSd-2tYYJN7",
        "outputId": "a6f4fd16-a1e0-4f5b-d8fe-1c0864e11ac4"
      },
      "execution_count": null,
      "outputs": [
        {
          "output_type": "execute_result",
          "data": {
            "text/plain": [
              "'성춘향'"
            ],
            "application/vnd.google.colaboratory.intrinsic+json": {
              "type": "string"
            }
          },
          "metadata": {},
          "execution_count": 11
        }
      ]
    },
    {
      "cell_type": "code",
      "source": [
        "# 클래스 매서드\n",
        "\n",
        "# 객체를 생성하지 않고도 호출하여 사용할 수 있다.     클래스명.매서드명\n",
        "# /@classmethod 데코레이터 장식자를 표시하여 사용한다. \n",
        "# 매개변수  self를 사용하지 않고 cls 를 사용한다. \n",
        "\n",
        "class Korean:\n",
        "\n",
        "  country = \"한국\" # 클래스 변수\n",
        "\n",
        "  @classmethod\n",
        "  def trip(cls, country):\n",
        "    if cls.country == country:\n",
        "      print('국내 여행입니다.')\n",
        "    else:\n",
        "      print('해외 여행입니다.')\n",
        "\n",
        "Korean.trip('한국')\n",
        "Korean.trip('미국')\n"
      ],
      "metadata": {
        "colab": {
          "base_uri": "https://localhost:8080/"
        },
        "id": "Sl9nma2BcovD",
        "outputId": "b6d1c253-ca84-48b2-e395-7de3921d4ffd"
      },
      "execution_count": null,
      "outputs": [
        {
          "output_type": "stream",
          "name": "stdout",
          "text": [
            "국내 여행입니다.\n",
            "해외 여행입니다.\n"
          ]
        }
      ]
    },
    {
      "cell_type": "code",
      "source": [
        "# 정적 매서드  static method\n",
        "\n",
        "# 1.객체 또는 클래스로 호출한다. \n",
        "# 2./@staticmathod 데코레이터 장식자로 표시한다. \n",
        "# 3. 매개변수는 없을수도 있다. \n",
        "\n",
        "# 정적 매서드는 self와 cls  모두 사용하지 않는다. \n",
        "# 하지만 정적 매서는 클래스에 소속되어있어도 객체에는 영향을 주지않고\n",
        "# 또 객체로부터도 영향을 받지 않는다. \n",
        "\n",
        "class Korean:\n",
        "  country = '한국'  # 클래스 변수\n",
        "\n",
        "  @staticmethod\n",
        "  def slogan():\n",
        "    print('imaine your korea')\n",
        "\n",
        "Korean.slogan()"
      ],
      "metadata": {
        "colab": {
          "base_uri": "https://localhost:8080/"
        },
        "id": "Q2ih-8xSd9yg",
        "outputId": "eace98f4-f906-42e3-def1-857254c6e837"
      },
      "execution_count": null,
      "outputs": [
        {
          "output_type": "stream",
          "name": "stdout",
          "text": [
            "imaine your korea\n"
          ]
        }
      ]
    },
    {
      "cell_type": "code",
      "source": [
        "# 상속\n",
        "\n",
        "# 어떤 클래스가 가지고 있는 기능을 그대로 물려받아서 사용하는 클래스를 만들수 있다\n",
        "# 다른 클래스의 기능을 물려받는 다는 의미로 상속이라는 표현을 쓴다. \n",
        "\n",
        "# 부모 클래스         자식 클래스\n",
        "# 슈펴 크래스         서브 클래스\n",
        "# 기반 클래스         파생 클래스\n",
        "\n",
        "# 서브클래스의 생성자를 구현할때는 반드시 슈퍼크래스의 생성자를\n",
        "# 먼저 호출하는 코드를 작성해야 한다. 자식은 반드시 부모가 있어야 태어날수가 있다. \n",
        "\n",
        "class Person:\n",
        "\n",
        "  def __init__(self, name):\n",
        "    self.name = name\n",
        "\n",
        "  def eat(self, food):\n",
        "    print(self.name + '가' + food + '를 먹습니다.')\n",
        "\n",
        "\n",
        "class Student(Person):\n",
        "  def __init__(self, name, school):\n",
        "    super().__init__(name)   #  부모클래스의 생성자 호출\n",
        "    self.school = school\n",
        "  \n",
        "  def study(self):\n",
        "    print(self.name + '는' + self.school + '에서 공부를 합니다.')\n",
        "\n",
        "potter = Student('해리포터','호그와트')\n",
        "potter.eat('감자')\n",
        "potter.study()"
      ],
      "metadata": {
        "id": "WQH-14jifA_F",
        "colab": {
          "base_uri": "https://localhost:8080/"
        },
        "outputId": "6e4eb408-26d1-4277-bbfe-7df7fb44fd29"
      },
      "execution_count": null,
      "outputs": [
        {
          "output_type": "stream",
          "name": "stdout",
          "text": [
            "해리포터가감자를 먹습니다.\n",
            "해리포터는호그와트에서 공부를 합니다.\n"
          ]
        }
      ]
    },
    {
      "cell_type": "code",
      "source": [
        "class Person:\n",
        "\n",
        "  population = 0\n",
        "\n",
        "  def __init__(self, name):\n",
        "    self.name = name\n",
        "    Person.population += 1\n",
        "    print(f'{self.name} is born')\n",
        "\n",
        "  def __del__(self):\n",
        "    Person.population -= 1\n",
        "    print(f'{self.name} is dead')    \n",
        "\n",
        "  @classmethod\n",
        "  def get_population(cls):\n",
        "    return cls.population\n",
        "\n",
        "man = Person('james')\n",
        "woman = Person('emily')\n",
        "\n",
        "print(f'전체 인구수: {Person.get_population()}명')\n",
        "del man\n",
        "print(f'전체 인구수: {Person.get_population()}명')\n"
      ],
      "metadata": {
        "colab": {
          "base_uri": "https://localhost:8080/"
        },
        "id": "uyzzc0T3lHmU",
        "outputId": "7b69071f-f7ff-435f-b39e-fb132ddfc6c1"
      },
      "execution_count": null,
      "outputs": [
        {
          "output_type": "stream",
          "name": "stdout",
          "text": [
            "james is born\n",
            "emily is born\n",
            "전체 인구수: 2명\n",
            "james is dead\n",
            "전체 인구수: 1명\n"
          ]
        }
      ]
    },
    {
      "cell_type": "code",
      "source": [
        "# 예외 처리  exception\n",
        "\n",
        "2/0"
      ],
      "metadata": {
        "id": "wLFxUY9LrYWF"
      },
      "execution_count": null,
      "outputs": []
    },
    {
      "cell_type": "code",
      "source": [
        "li = [1,2,3]\n",
        "li[3]"
      ],
      "metadata": {
        "id": "nMNVXIdRrY60"
      },
      "execution_count": null,
      "outputs": []
    },
    {
      "cell_type": "code",
      "source": [
        "a = int(input('제수를 입력하세요 >>>'))\n",
        "b = int(input('피제수를 입력하세요 >>>'))\n",
        "\n",
        "if b == 0:\n",
        "  print('0으로 나누는 것은 불가능합니다.')\n",
        "else:\n",
        "  print(f'a/b')\n",
        "\n",
        "# 1. 어떤 문제가 발생할지 예상 해야만 처리할수 있다. \n",
        "# 2. 어떤 문제가 발생할지 예상을 하더라도 대비할수 없을수도 있다. "
      ],
      "metadata": {
        "id": "M-xIX-cPraOF"
      },
      "execution_count": null,
      "outputs": []
    },
    {
      "cell_type": "code",
      "source": [
        "try:\n",
        "  a = int(input('제수를 입력하세요 >>>'))\n",
        "  b = int(input('피제수를 입력하세요 >>>'))\n",
        "  print(f'{a/b}')\n",
        "except ZeroDivisionError:\n",
        "  print('0으로는 나눌수 없습니다.')  \n",
        "except ValueError:\n",
        "  print('정수만 입력할 수 있습니다.')  \n"
      ],
      "metadata": {
        "id": "Y2DAVG1_sn-6"
      },
      "execution_count": null,
      "outputs": []
    },
    {
      "cell_type": "code",
      "source": [
        "try:\n",
        "  a = int(input('제수를 입력하세요 >>>'))\n",
        "  b = int(input('피제수를 입력하세요 >>>'))\n",
        "  result = a/b\n",
        "except ZeroDivisionError as e:   #에러가 발생했을때\n",
        "  print(e)  \n",
        "except ValueError as e:  #에러가 발생했을때\n",
        "  print(e)  \n",
        "else:  # 에러가 발생하지 않았을 때\n",
        "  print(f'{result}')\n",
        "finally:\n",
        "  print('프로그램 종료')"
      ],
      "metadata": {
        "id": "PSiRHERKuCmC"
      },
      "execution_count": null,
      "outputs": []
    },
    {
      "cell_type": "code",
      "source": [
        "# 예외 강제 발생\n",
        "\n",
        "if 1 == 1:\n",
        "  raise Exception('예외 강제 발생')"
      ],
      "metadata": {
        "id": "GIjix5PgxM38"
      },
      "execution_count": null,
      "outputs": []
    },
    {
      "cell_type": "code",
      "source": [
        "class Quiz:\n",
        "  answer = ['경기도','강원도','충청남도','충청북도','전라남도','전라북도','경상남도','경상북도','제주도']\n",
        "\n",
        "  @classmethod\n",
        "  def challenge(cls):\n",
        "    do = input('정답은? >>>')\n",
        "    if do not in cls.answer:\n",
        "      raise Exception('틀렸습니다.')\n",
        "\n",
        "\n",
        "\n",
        "try:\n",
        "  print('우리나라의 9개 모든 도를 맞히는 퀴즈입니다. 하나씩 대답하세요')\n",
        "  Quiz.challenge()    \n",
        "except Exception as e:\n",
        "  print(e)\n",
        "  "
      ],
      "metadata": {
        "id": "5v6gzlZlzMDI"
      },
      "execution_count": null,
      "outputs": []
    },
    {
      "cell_type": "code",
      "source": [
        ""
      ],
      "metadata": {
        "id": "bsKcHvD1uEdc"
      },
      "execution_count": null,
      "outputs": []
    }
  ]
}